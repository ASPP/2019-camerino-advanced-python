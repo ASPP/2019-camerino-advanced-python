{
 "cells": [
  {
   "cell_type": "code",
   "execution_count": 2,
   "metadata": {
    "ExecuteTime": {
     "end_time": "2018-02-15T07:49:05.531799Z",
     "start_time": "2018-02-15T08:49:04.680736+01:00"
    },
    "collapsed": true
   },
   "outputs": [],
   "source": [
    "import pandas as pd"
   ]
  },
  {
   "cell_type": "code",
   "execution_count": 27,
   "metadata": {
    "ExecuteTime": {
     "end_time": "2018-02-15T07:54:37.360528Z",
     "start_time": "2018-02-15T08:54:37.339597+01:00"
    },
    "collapsed": false
   },
   "outputs": [
    {
     "name": "stdout",
     "output_type": "stream",
     "text": [
      "consumption_201710.csv\n",
      "consumption_201711.csv\n",
      "consumption_201712.csv\n"
     ]
    }
   ],
   "source": [
    "months = [201710, 201711, 201712]\n",
    "template = 'consumption_{month}.csv'\n",
    "chunksize = 3\n",
    "\n",
    "chunks = []\n",
    "for month in months:\n",
    "    filename = template.format(month=month)\n",
    "    print(filename)\n",
    "\n",
    "    chunk_iterator = pd.read_csv(filename, sep=',', chunksize=chunksize)\n",
    "    for chunk in chunk_iterator:\n",
    "        chunk.columns = chunk.columns.str.replace(str(month) + '_', '')\n",
    "        \n",
    "        chunk_sum = pd.DataFrame(\n",
    "            data={\n",
    "                'MORNING': chunk['TV_M'] + chunk['VOD_M'],\n",
    "                'AFTERNOON': chunk['TV_A'] + chunk['VOD_A'],\n",
    "                'NIGHT': chunk['TV_N'] + chunk['VOD_N'],\n",
    "                'USER_ID': chunk['USER_ID'],\n",
    "                'YEAR_MONTH': month,\n",
    "            }\n",
    "        )\n",
    "        chunks.append(chunk_sum)\n",
    "\n",
    "df = pd.concat(chunks)"
   ]
  },
  {
   "cell_type": "code",
   "execution_count": 28,
   "metadata": {
    "ExecuteTime": {
     "end_time": "2018-02-15T07:54:41.267029Z",
     "start_time": "2018-02-15T08:54:41.259693+01:00"
    },
    "collapsed": false
   },
   "outputs": [
    {
     "data": {
      "text/html": [
       "<div>\n",
       "<style>\n",
       "    .dataframe thead tr:only-child th {\n",
       "        text-align: right;\n",
       "    }\n",
       "\n",
       "    .dataframe thead th {\n",
       "        text-align: left;\n",
       "    }\n",
       "\n",
       "    .dataframe tbody tr th {\n",
       "        vertical-align: top;\n",
       "    }\n",
       "</style>\n",
       "<table border=\"1\" class=\"dataframe\">\n",
       "  <thead>\n",
       "    <tr style=\"text-align: right;\">\n",
       "      <th></th>\n",
       "      <th>AFTERNOON</th>\n",
       "      <th>MORNING</th>\n",
       "      <th>NIGHT</th>\n",
       "      <th>USER_ID</th>\n",
       "      <th>YEAR_MONTH</th>\n",
       "    </tr>\n",
       "  </thead>\n",
       "  <tbody>\n",
       "    <tr>\n",
       "      <th>0</th>\n",
       "      <td>98</td>\n",
       "      <td>834</td>\n",
       "      <td>6000</td>\n",
       "      <td>1</td>\n",
       "      <td>201710</td>\n",
       "    </tr>\n",
       "    <tr>\n",
       "      <th>0</th>\n",
       "      <td>98</td>\n",
       "      <td>834</td>\n",
       "      <td>6000</td>\n",
       "      <td>1</td>\n",
       "      <td>201711</td>\n",
       "    </tr>\n",
       "    <tr>\n",
       "      <th>0</th>\n",
       "      <td>98</td>\n",
       "      <td>834</td>\n",
       "      <td>6000</td>\n",
       "      <td>1</td>\n",
       "      <td>201712</td>\n",
       "    </tr>\n",
       "  </tbody>\n",
       "</table>\n",
       "</div>"
      ],
      "text/plain": [
       "   AFTERNOON  MORNING  NIGHT  USER_ID  YEAR_MONTH\n",
       "0         98      834   6000        1      201710\n",
       "0         98      834   6000        1      201711\n",
       "0         98      834   6000        1      201712"
      ]
     },
     "execution_count": 28,
     "metadata": {},
     "output_type": "execute_result"
    }
   ],
   "source": [
    "df"
   ]
  },
  {
   "cell_type": "markdown",
   "metadata": {},
   "source": [
    "1. Computation is easy, testing is hard: need to create files, etc.\n",
    "2. Suppose we want to aggregate over TV, VOD => lots of redundant code\n",
    "3. Extract iteration over chunks\n",
    "4. Extract removal of month: show how to chain iterators, leave as exercise\n",
    "5. We want to do better and remove all redundancy: generator that takes a list of filenames and return chunks. Need to introduce zip and other built-in generators\n",
    "6. `dask` version"
   ]
  },
  {
   "cell_type": "code",
   "execution_count": 32,
   "metadata": {
    "ExecuteTime": {
     "end_time": "2018-02-15T07:58:57.678918Z",
     "start_time": "2018-02-15T08:58:57.675233+01:00"
    },
    "collapsed": true
   },
   "outputs": [],
   "source": [
    "def iterate_files_in_chunks(filenames, chunksize):\n",
    "    for filename in filenames:\n",
    "        chunk_iterator = pd.read_csv(filename, sep=',', chunksize=chunksize)\n",
    "        for chunk in chunk_iterator:\n",
    "            yield chunk"
   ]
  },
  {
   "cell_type": "code",
   "execution_count": 33,
   "metadata": {
    "ExecuteTime": {
     "end_time": "2018-02-15T07:58:57.844960Z",
     "start_time": "2018-02-15T08:58:57.842249+01:00"
    },
    "collapsed": true
   },
   "outputs": [],
   "source": [
    "def months_to_filename(months):\n",
    "    for month in months:\n",
    "        yield template.format(month=month)"
   ]
  },
  {
   "cell_type": "code",
   "execution_count": null,
   "metadata": {
    "collapsed": true
   },
   "outputs": [],
   "source": []
  },
  {
   "cell_type": "code",
   "execution_count": 47,
   "metadata": {
    "ExecuteTime": {
     "end_time": "2018-02-15T08:10:02.220253Z",
     "start_time": "2018-02-15T09:10:02.216216+01:00"
    },
    "collapsed": false
   },
   "outputs": [
    {
     "ename": "SyntaxError",
     "evalue": "invalid syntax (<ipython-input-47-50fcb5f621c3>, line 2)",
     "output_type": "error",
     "traceback": [
      "\u001b[0;36m  File \u001b[0;32m\"<ipython-input-47-50fcb5f621c3>\"\u001b[0;36m, line \u001b[0;32m2\u001b[0m\n\u001b[0;31m    for month, chunk in zip(months, clean_columns(iterate_chunks(months_to_filename(months), chunksize=chunksize)):\u001b[0m\n\u001b[0m                                                                                                                  ^\u001b[0m\n\u001b[0;31mSyntaxError\u001b[0m\u001b[0;31m:\u001b[0m invalid syntax\n"
     ]
    }
   ],
   "source": [
    "# ??? clean_columns needs `month`\n",
    "for month, chunk in zip(months, clean_columns(iterate_chunks(months_to_filename(months), chunksize=chunksize)):\n",
    "    chunk.columns = chunk.columns.str.replace(str(month) + '_', '')\n"
   ]
  },
  {
   "cell_type": "code",
   "execution_count": 44,
   "metadata": {
    "ExecuteTime": {
     "end_time": "2018-02-15T08:02:05.590733Z",
     "start_time": "2018-02-15T09:02:05.572101+01:00"
    },
    "collapsed": false
   },
   "outputs": [],
   "source": [
    "months = [201710, 201711, 201712]\n",
    "template = 'consumption_{month}.csv'\n",
    "chunksize = 3\n",
    "\n",
    "chunks = []\n",
    "for month, chunk in zip(months, iterate_files_in_chunks(months_to_filename(months), chunksize=chunksize)):\n",
    "    chunk.columns = chunk.columns.str.replace(str(month) + '_', '')\n",
    "\n",
    "    chunk_sum = pd.DataFrame(\n",
    "        data={\n",
    "            'MORNING': chunk['TV_M'] + chunk['VOD_M'],\n",
    "            'AFTERNOON': chunk['TV_A'] + chunk['VOD_A'],\n",
    "            'NIGHT': chunk['TV_N'] + chunk['VOD_N'],\n",
    "            'USER_ID': chunk['USER_ID'],\n",
    "            'YEAR_MONTH': month,\n",
    "        }\n",
    "    )\n",
    "    chunks.append(chunk_sum)\n",
    "\n",
    "df = pd.concat(chunks).set_index(['USER_ID', 'YEAR_MONTH'])"
   ]
  },
  {
   "cell_type": "code",
   "execution_count": 45,
   "metadata": {
    "ExecuteTime": {
     "end_time": "2018-02-15T08:02:07.452106Z",
     "start_time": "2018-02-15T09:02:07.444288+01:00"
    },
    "collapsed": false
   },
   "outputs": [
    {
     "data": {
      "text/html": [
       "<div>\n",
       "<style>\n",
       "    .dataframe thead tr:only-child th {\n",
       "        text-align: right;\n",
       "    }\n",
       "\n",
       "    .dataframe thead th {\n",
       "        text-align: left;\n",
       "    }\n",
       "\n",
       "    .dataframe tbody tr th {\n",
       "        vertical-align: top;\n",
       "    }\n",
       "</style>\n",
       "<table border=\"1\" class=\"dataframe\">\n",
       "  <thead>\n",
       "    <tr style=\"text-align: right;\">\n",
       "      <th></th>\n",
       "      <th></th>\n",
       "      <th>AFTERNOON</th>\n",
       "      <th>MORNING</th>\n",
       "      <th>NIGHT</th>\n",
       "    </tr>\n",
       "    <tr>\n",
       "      <th>USER_ID</th>\n",
       "      <th>YEAR_MONTH</th>\n",
       "      <th></th>\n",
       "      <th></th>\n",
       "      <th></th>\n",
       "    </tr>\n",
       "  </thead>\n",
       "  <tbody>\n",
       "    <tr>\n",
       "      <th rowspan=\"3\" valign=\"top\">1</th>\n",
       "      <th>201710</th>\n",
       "      <td>98</td>\n",
       "      <td>834</td>\n",
       "      <td>6000</td>\n",
       "    </tr>\n",
       "    <tr>\n",
       "      <th>201711</th>\n",
       "      <td>98</td>\n",
       "      <td>834</td>\n",
       "      <td>6000</td>\n",
       "    </tr>\n",
       "    <tr>\n",
       "      <th>201712</th>\n",
       "      <td>98</td>\n",
       "      <td>834</td>\n",
       "      <td>6000</td>\n",
       "    </tr>\n",
       "  </tbody>\n",
       "</table>\n",
       "</div>"
      ],
      "text/plain": [
       "                    AFTERNOON  MORNING  NIGHT\n",
       "USER_ID YEAR_MONTH                           \n",
       "1       201710             98      834   6000\n",
       "        201711             98      834   6000\n",
       "        201712             98      834   6000"
      ]
     },
     "execution_count": 45,
     "metadata": {},
     "output_type": "execute_result"
    }
   ],
   "source": [
    "df"
   ]
  },
  {
   "cell_type": "code",
   "execution_count": null,
   "metadata": {
    "collapsed": true
   },
   "outputs": [],
   "source": []
  }
 ],
 "metadata": {
  "hide_input": false,
  "kernelspec": {
   "display_name": "Python [conda env:scratch]",
   "language": "python",
   "name": "conda-env-scratch-py"
  },
  "language_info": {
   "codemirror_mode": {
    "name": "ipython",
    "version": 3
   },
   "file_extension": ".py",
   "mimetype": "text/x-python",
   "name": "python",
   "nbconvert_exporter": "python",
   "pygments_lexer": "ipython3",
   "version": "3.5.2"
  },
  "toc": {
   "nav_menu": {
    "height": "12px",
    "width": "252px"
   },
   "navigate_menu": true,
   "number_sections": true,
   "sideBar": true,
   "threshold": 4,
   "toc_cell": false,
   "toc_section_display": "block",
   "toc_window_display": false
  }
 },
 "nbformat": 4,
 "nbformat_minor": 2
}

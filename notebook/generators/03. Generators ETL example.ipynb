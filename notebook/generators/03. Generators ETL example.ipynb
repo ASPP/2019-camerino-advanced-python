{
 "cells": [
  {
   "cell_type": "code",
   "execution_count": 1,
   "metadata": {
    "ExecuteTime": {
     "end_time": "2018-07-24T14:19:28.464908Z",
     "start_time": "2018-07-24T16:19:27.440148+02:00"
    },
    "collapsed": true
   },
   "outputs": [],
   "source": [
    "%matplotlib inline\n",
    "\n",
    "import pandas as pd"
   ]
  },
  {
   "cell_type": "code",
   "execution_count": null,
   "metadata": {
    "collapsed": true
   },
   "outputs": [],
   "source": [
    "# HERE show what is in the files"
   ]
  },
  {
   "cell_type": "code",
   "execution_count": 2,
   "metadata": {
    "ExecuteTime": {
     "end_time": "2018-07-24T14:19:29.550033Z",
     "start_time": "2018-07-24T16:19:29.450505+02:00"
    },
    "collapsed": false
   },
   "outputs": [
    {
     "name": "stdout",
     "output_type": "stream",
     "text": [
      "consumption_201710.csv\n",
      "consumption_201711.csv\n",
      "consumption_201712.csv\n"
     ]
    }
   ],
   "source": [
    "year = 2017\n",
    "months = [10, 11, 12]\n",
    "template = 'consumption_{year}{month}.csv'\n",
    "chunksize = 10\n",
    "\n",
    "chunks = []\n",
    "for month in months:\n",
    "    filename = template.format(year=year, month=month)\n",
    "    print(filename)\n",
    "\n",
    "    chunk_iterator = pd.read_csv(filename, sep=',', chunksize=chunksize)\n",
    "    for chunk in chunk_iterator:\n",
    "        chunk.columns = chunk.columns.str.replace('{year}{month}_'.format(year=year, month=month), '')\n",
    "        \n",
    "        chunk_sum = pd.DataFrame(\n",
    "            data={\n",
    "                'MORNING': chunk['TV_M'] + chunk['VOD_M'],\n",
    "                'AFTERNOON': chunk['TV_A'] + chunk['VOD_A'],\n",
    "                'NIGHT': chunk['TV_N'] + chunk['VOD_N'],\n",
    "                'USER_ID': chunk['USER_ID'],\n",
    "                'YEAR_MONTH': month,\n",
    "            }\n",
    "        )\n",
    "        chunks.append(chunk_sum)\n",
    "\n",
    "df = pd.concat(chunks)"
   ]
  },
  {
   "cell_type": "code",
   "execution_count": 3,
   "metadata": {
    "ExecuteTime": {
     "end_time": "2018-07-24T14:19:31.312501Z",
     "start_time": "2018-07-24T16:19:31.301181+02:00"
    },
    "collapsed": false
   },
   "outputs": [
    {
     "data": {
      "text/html": [
       "<div>\n",
       "<style scoped>\n",
       "    .dataframe tbody tr th:only-of-type {\n",
       "        vertical-align: middle;\n",
       "    }\n",
       "\n",
       "    .dataframe tbody tr th {\n",
       "        vertical-align: top;\n",
       "    }\n",
       "\n",
       "    .dataframe thead th {\n",
       "        text-align: right;\n",
       "    }\n",
       "</style>\n",
       "<table border=\"1\" class=\"dataframe\">\n",
       "  <thead>\n",
       "    <tr style=\"text-align: right;\">\n",
       "      <th></th>\n",
       "      <th>AFTERNOON</th>\n",
       "      <th>MORNING</th>\n",
       "      <th>NIGHT</th>\n",
       "      <th>USER_ID</th>\n",
       "      <th>YEAR_MONTH</th>\n",
       "    </tr>\n",
       "  </thead>\n",
       "  <tbody>\n",
       "    <tr>\n",
       "      <th>0</th>\n",
       "      <td>3468</td>\n",
       "      <td>2582</td>\n",
       "      <td>7090</td>\n",
       "      <td>0</td>\n",
       "      <td>10</td>\n",
       "    </tr>\n",
       "    <tr>\n",
       "      <th>1</th>\n",
       "      <td>3211</td>\n",
       "      <td>2483</td>\n",
       "      <td>6816</td>\n",
       "      <td>1</td>\n",
       "      <td>10</td>\n",
       "    </tr>\n",
       "    <tr>\n",
       "      <th>2</th>\n",
       "      <td>1959</td>\n",
       "      <td>1403</td>\n",
       "      <td>3448</td>\n",
       "      <td>2</td>\n",
       "      <td>10</td>\n",
       "    </tr>\n",
       "    <tr>\n",
       "      <th>3</th>\n",
       "      <td>1722</td>\n",
       "      <td>1568</td>\n",
       "      <td>4450</td>\n",
       "      <td>3</td>\n",
       "      <td>10</td>\n",
       "    </tr>\n",
       "    <tr>\n",
       "      <th>4</th>\n",
       "      <td>605</td>\n",
       "      <td>457</td>\n",
       "      <td>1338</td>\n",
       "      <td>4</td>\n",
       "      <td>10</td>\n",
       "    </tr>\n",
       "  </tbody>\n",
       "</table>\n",
       "</div>"
      ],
      "text/plain": [
       "   AFTERNOON  MORNING  NIGHT  USER_ID  YEAR_MONTH\n",
       "0       3468     2582   7090        0          10\n",
       "1       3211     2483   6816        1          10\n",
       "2       1959     1403   3448        2          10\n",
       "3       1722     1568   4450        3          10\n",
       "4        605      457   1338        4          10"
      ]
     },
     "execution_count": 3,
     "metadata": {},
     "output_type": "execute_result"
    }
   ],
   "source": [
    "df.head()"
   ]
  },
  {
   "cell_type": "code",
   "execution_count": 4,
   "metadata": {
    "ExecuteTime": {
     "end_time": "2018-02-16T13:04:15.364620Z",
     "start_time": "2018-02-16T14:04:15.221546+01:00"
    },
    "collapsed": false
   },
   "outputs": [
    {
     "data": {
      "text/plain": [
       "<matplotlib.axes._subplots.AxesSubplot at 0x10d166e10>"
      ]
     },
     "execution_count": 4,
     "metadata": {},
     "output_type": "execute_result"
    },
    {
     "data": {
      "image/png": "[encoded data removed]",
      "text/plain": [
       "<matplotlib.figure.Figure at 0x10d1664a8>"
      ]
     },
     "metadata": {},
     "output_type": "display_data"
    }
   ],
   "source": [
    "df.loc[:, ['MORNING', 'AFTERNOON', 'NIGHT']].mean().plot.bar()"
   ]
  },
  {
   "cell_type": "code",
   "execution_count": 74,
   "metadata": {
    "ExecuteTime": {
     "end_time": "2018-07-27T09:11:51.316604Z",
     "start_time": "2018-07-27T11:11:51.300722+02:00"
    },
    "collapsed": false
   },
   "outputs": [],
   "source": [
    "years = [2017]\n",
    "months = [10, 11, 12]\n",
    "template = 'consumption_{year}{month}.csv'\n",
    "chunksize = 10\n",
    "\n",
    "def iterate_months_in_chunks(months, year, chunksize):\n",
    "    template = 'consumption_{year}{month}.csv'\n",
    "    for year in years:\n",
    "        for month in months:\n",
    "            filename = template.format(month=month, year=year)\n",
    "            for chunk in pd.read_csv(filename, sep=',', chunksize=chunksize):\n",
    "                chunk['YEAR'] = year\n",
    "                chunk['MONTH'] = month\n",
    "                yield chunk\n",
    "\n",
    "def clean_chunks(chunks):\n",
    "    for chunk in chunks:\n",
    "        year = chunk['YEAR'].values[0]\n",
    "        month = chunk['MONTH'].values[0]\n",
    "        chunk.columns = chunk.columns.str.replace('{year}{month}_'.format(year=year, month=month), '')\n",
    "        yield chunk\n",
    "\n",
    "def aggregate_chunks_by_part_of_day(chunks):\n",
    "    for chunk in chunks:\n",
    "        chunk_sum = pd.DataFrame(\n",
    "            data={\n",
    "                'MORNING': chunk['TV_M'] + chunk['VOD_M'],\n",
    "                'AFTERNOON': chunk['TV_A'] + chunk['VOD_A'],\n",
    "                'NIGHT': chunk['TV_N'] + chunk['VOD_N'],\n",
    "                'USER_ID': chunk['USER_ID'],\n",
    "                'YEAR_MONTH': chunk['YEAR'] * 100 + chunk['MONTH'],\n",
    "            }\n",
    "        )\n",
    "        yield chunk_sum\n"
   ]
  },
  {
   "cell_type": "code",
   "execution_count": 75,
   "metadata": {
    "ExecuteTime": {
     "end_time": "2018-07-27T09:11:51.732125Z",
     "start_time": "2018-07-27T11:11:51.628944+02:00"
    },
    "collapsed": false
   },
   "outputs": [
    {
     "data": {
      "text/html": [
       "<div>\n",
       "<style scoped>\n",
       "    .dataframe tbody tr th:only-of-type {\n",
       "        vertical-align: middle;\n",
       "    }\n",
       "\n",
       "    .dataframe tbody tr th {\n",
       "        vertical-align: top;\n",
       "    }\n",
       "\n",
       "    .dataframe thead th {\n",
       "        text-align: right;\n",
       "    }\n",
       "</style>\n",
       "<table border=\"1\" class=\"dataframe\">\n",
       "  <thead>\n",
       "    <tr style=\"text-align: right;\">\n",
       "      <th></th>\n",
       "      <th>AFTERNOON</th>\n",
       "      <th>MORNING</th>\n",
       "      <th>NIGHT</th>\n",
       "      <th>USER_ID</th>\n",
       "      <th>YEAR_MONTH</th>\n",
       "    </tr>\n",
       "  </thead>\n",
       "  <tbody>\n",
       "    <tr>\n",
       "      <th>0</th>\n",
       "      <td>3468</td>\n",
       "      <td>2582</td>\n",
       "      <td>7090</td>\n",
       "      <td>0</td>\n",
       "      <td>201710</td>\n",
       "    </tr>\n",
       "    <tr>\n",
       "      <th>1</th>\n",
       "      <td>3211</td>\n",
       "      <td>2483</td>\n",
       "      <td>6816</td>\n",
       "      <td>1</td>\n",
       "      <td>201710</td>\n",
       "    </tr>\n",
       "    <tr>\n",
       "      <th>2</th>\n",
       "      <td>1959</td>\n",
       "      <td>1403</td>\n",
       "      <td>3448</td>\n",
       "      <td>2</td>\n",
       "      <td>201710</td>\n",
       "    </tr>\n",
       "    <tr>\n",
       "      <th>3</th>\n",
       "      <td>1722</td>\n",
       "      <td>1568</td>\n",
       "      <td>4450</td>\n",
       "      <td>3</td>\n",
       "      <td>201710</td>\n",
       "    </tr>\n",
       "    <tr>\n",
       "      <th>4</th>\n",
       "      <td>605</td>\n",
       "      <td>457</td>\n",
       "      <td>1338</td>\n",
       "      <td>4</td>\n",
       "      <td>201710</td>\n",
       "    </tr>\n",
       "  </tbody>\n",
       "</table>\n",
       "</div>"
      ],
      "text/plain": [
       "   AFTERNOON  MORNING  NIGHT  USER_ID  YEAR_MONTH\n",
       "0       3468     2582   7090        0      201710\n",
       "1       3211     2483   6816        1      201710\n",
       "2       1959     1403   3448        2      201710\n",
       "3       1722     1568   4450        3      201710\n",
       "4        605      457   1338        4      201710"
      ]
     },
     "execution_count": 75,
     "metadata": {},
     "output_type": "execute_result"
    }
   ],
   "source": [
    "# First...\n",
    "agg_chunks = []\n",
    "for agg_chunk in aggregate_chunks_by_part_of_day(clean_chunks(iterate_months_in_chunks(months, year, chunksize))):\n",
    "    agg_chunks.append(agg_chunk)\n",
    "\n",
    "df = pd.concat(agg_chunks)\n",
    "df.head()"
   ]
  },
  {
   "cell_type": "code",
   "execution_count": 76,
   "metadata": {
    "ExecuteTime": {
     "end_time": "2018-07-27T09:11:54.196423Z",
     "start_time": "2018-07-27T11:11:54.093359+02:00"
    },
    "collapsed": false
   },
   "outputs": [
    {
     "data": {
      "text/html": [
       "<div>\n",
       "<style scoped>\n",
       "    .dataframe tbody tr th:only-of-type {\n",
       "        vertical-align: middle;\n",
       "    }\n",
       "\n",
       "    .dataframe tbody tr th {\n",
       "        vertical-align: top;\n",
       "    }\n",
       "\n",
       "    .dataframe thead th {\n",
       "        text-align: right;\n",
       "    }\n",
       "</style>\n",
       "<table border=\"1\" class=\"dataframe\">\n",
       "  <thead>\n",
       "    <tr style=\"text-align: right;\">\n",
       "      <th></th>\n",
       "      <th>AFTERNOON</th>\n",
       "      <th>MORNING</th>\n",
       "      <th>NIGHT</th>\n",
       "      <th>USER_ID</th>\n",
       "      <th>YEAR_MONTH</th>\n",
       "    </tr>\n",
       "  </thead>\n",
       "  <tbody>\n",
       "    <tr>\n",
       "      <th>0</th>\n",
       "      <td>3468</td>\n",
       "      <td>2582</td>\n",
       "      <td>7090</td>\n",
       "      <td>0</td>\n",
       "      <td>201710</td>\n",
       "    </tr>\n",
       "    <tr>\n",
       "      <th>1</th>\n",
       "      <td>3211</td>\n",
       "      <td>2483</td>\n",
       "      <td>6816</td>\n",
       "      <td>1</td>\n",
       "      <td>201710</td>\n",
       "    </tr>\n",
       "    <tr>\n",
       "      <th>2</th>\n",
       "      <td>1959</td>\n",
       "      <td>1403</td>\n",
       "      <td>3448</td>\n",
       "      <td>2</td>\n",
       "      <td>201710</td>\n",
       "    </tr>\n",
       "    <tr>\n",
       "      <th>3</th>\n",
       "      <td>1722</td>\n",
       "      <td>1568</td>\n",
       "      <td>4450</td>\n",
       "      <td>3</td>\n",
       "      <td>201710</td>\n",
       "    </tr>\n",
       "    <tr>\n",
       "      <th>4</th>\n",
       "      <td>605</td>\n",
       "      <td>457</td>\n",
       "      <td>1338</td>\n",
       "      <td>4</td>\n",
       "      <td>201710</td>\n",
       "    </tr>\n",
       "  </tbody>\n",
       "</table>\n",
       "</div>"
      ],
      "text/plain": [
       "   AFTERNOON  MORNING  NIGHT  USER_ID  YEAR_MONTH\n",
       "0       3468     2582   7090        0      201710\n",
       "1       3211     2483   6816        1      201710\n",
       "2       1959     1403   3448        2      201710\n",
       "3       1722     1568   4450        3      201710\n",
       "4        605      457   1338        4      201710"
      ]
     },
     "execution_count": 76,
     "metadata": {},
     "output_type": "execute_result"
    }
   ],
   "source": [
    "# Second...\n",
    "agg_chunks = list(aggregate_chunks_by_part_of_day(clean_chunks(iterate_months_in_chunks(months, year, chunksize))))\n",
    "df = pd.concat(agg_chunks)\n",
    "df.head()"
   ]
  },
  {
   "cell_type": "code",
   "execution_count": 78,
   "metadata": {
    "ExecuteTime": {
     "end_time": "2018-07-27T09:17:19.049392Z",
     "start_time": "2018-07-27T11:17:18.949606+02:00"
    },
    "collapsed": false,
    "scrolled": true
   },
   "outputs": [
    {
     "data": {
      "text/html": [
       "<div>\n",
       "<style scoped>\n",
       "    .dataframe tbody tr th:only-of-type {\n",
       "        vertical-align: middle;\n",
       "    }\n",
       "\n",
       "    .dataframe tbody tr th {\n",
       "        vertical-align: top;\n",
       "    }\n",
       "\n",
       "    .dataframe thead th {\n",
       "        text-align: right;\n",
       "    }\n",
       "</style>\n",
       "<table border=\"1\" class=\"dataframe\">\n",
       "  <thead>\n",
       "    <tr style=\"text-align: right;\">\n",
       "      <th></th>\n",
       "      <th>AFTERNOON</th>\n",
       "      <th>MORNING</th>\n",
       "      <th>NIGHT</th>\n",
       "      <th>USER_ID</th>\n",
       "      <th>YEAR_MONTH</th>\n",
       "    </tr>\n",
       "  </thead>\n",
       "  <tbody>\n",
       "    <tr>\n",
       "      <th>0</th>\n",
       "      <td>3468</td>\n",
       "      <td>2582</td>\n",
       "      <td>7090</td>\n",
       "      <td>0</td>\n",
       "      <td>201710</td>\n",
       "    </tr>\n",
       "    <tr>\n",
       "      <th>1</th>\n",
       "      <td>3211</td>\n",
       "      <td>2483</td>\n",
       "      <td>6816</td>\n",
       "      <td>1</td>\n",
       "      <td>201710</td>\n",
       "    </tr>\n",
       "    <tr>\n",
       "      <th>2</th>\n",
       "      <td>1959</td>\n",
       "      <td>1403</td>\n",
       "      <td>3448</td>\n",
       "      <td>2</td>\n",
       "      <td>201710</td>\n",
       "    </tr>\n",
       "    <tr>\n",
       "      <th>3</th>\n",
       "      <td>1722</td>\n",
       "      <td>1568</td>\n",
       "      <td>4450</td>\n",
       "      <td>3</td>\n",
       "      <td>201710</td>\n",
       "    </tr>\n",
       "    <tr>\n",
       "      <th>4</th>\n",
       "      <td>605</td>\n",
       "      <td>457</td>\n",
       "      <td>1338</td>\n",
       "      <td>4</td>\n",
       "      <td>201710</td>\n",
       "    </tr>\n",
       "  </tbody>\n",
       "</table>\n",
       "</div>"
      ],
      "text/plain": [
       "   AFTERNOON  MORNING  NIGHT  USER_ID  YEAR_MONTH\n",
       "0       3468     2582   7090        0      201710\n",
       "1       3211     2483   6816        1      201710\n",
       "2       1959     1403   3448        2      201710\n",
       "3       1722     1568   4450        3      201710\n",
       "4        605      457   1338        4      201710"
      ]
     },
     "execution_count": 78,
     "metadata": {},
     "output_type": "execute_result"
    }
   ],
   "source": [
    "# Or just...\n",
    "df = pd.concat(\n",
    "        aggregate_chunks_by_part_of_day(clean_chunks(iterate_months_in_chunks(months, year, chunksize)))\n",
    "     )\n",
    "df.head()"
   ]
  },
  {
   "cell_type": "code",
   "execution_count": 77,
   "metadata": {
    "ExecuteTime": {
     "end_time": "2018-07-27T09:12:20.717292Z",
     "start_time": "2018-07-27T11:12:20.612202+02:00"
    },
    "collapsed": false
   },
   "outputs": [
    {
     "data": {
      "text/html": [
       "<div>\n",
       "<style scoped>\n",
       "    .dataframe tbody tr th:only-of-type {\n",
       "        vertical-align: middle;\n",
       "    }\n",
       "\n",
       "    .dataframe tbody tr th {\n",
       "        vertical-align: top;\n",
       "    }\n",
       "\n",
       "    .dataframe thead th {\n",
       "        text-align: right;\n",
       "    }\n",
       "</style>\n",
       "<table border=\"1\" class=\"dataframe\">\n",
       "  <thead>\n",
       "    <tr style=\"text-align: right;\">\n",
       "      <th></th>\n",
       "      <th>TV</th>\n",
       "      <th>USER_ID</th>\n",
       "      <th>VOD</th>\n",
       "      <th>YEAR_MONTH</th>\n",
       "    </tr>\n",
       "  </thead>\n",
       "  <tbody>\n",
       "    <tr>\n",
       "      <th>0</th>\n",
       "      <td>8490</td>\n",
       "      <td>0</td>\n",
       "      <td>4650</td>\n",
       "      <td>201710</td>\n",
       "    </tr>\n",
       "    <tr>\n",
       "      <th>1</th>\n",
       "      <td>6300</td>\n",
       "      <td>1</td>\n",
       "      <td>6210</td>\n",
       "      <td>201710</td>\n",
       "    </tr>\n",
       "    <tr>\n",
       "      <th>2</th>\n",
       "      <td>5910</td>\n",
       "      <td>2</td>\n",
       "      <td>900</td>\n",
       "      <td>201710</td>\n",
       "    </tr>\n",
       "    <tr>\n",
       "      <th>3</th>\n",
       "      <td>1560</td>\n",
       "      <td>3</td>\n",
       "      <td>6180</td>\n",
       "      <td>201710</td>\n",
       "    </tr>\n",
       "    <tr>\n",
       "      <th>4</th>\n",
       "      <td>1230</td>\n",
       "      <td>4</td>\n",
       "      <td>1170</td>\n",
       "      <td>201710</td>\n",
       "    </tr>\n",
       "  </tbody>\n",
       "</table>\n",
       "</div>"
      ],
      "text/plain": [
       "     TV  USER_ID   VOD  YEAR_MONTH\n",
       "0  8490        0  4650      201710\n",
       "1  6300        1  6210      201710\n",
       "2  5910        2   900      201710\n",
       "3  1560        3  6180      201710\n",
       "4  1230        4  1170      201710"
      ]
     },
     "execution_count": 77,
     "metadata": {},
     "output_type": "execute_result"
    }
   ],
   "source": [
    "# When we need to do it again with another aggregation...\n",
    "\n",
    "def aggregate_chunk_by_service(chunks):\n",
    "    for chunk in chunks:\n",
    "        chunk_sum = pd.DataFrame(\n",
    "            data={\n",
    "                'TV': chunk['TV_M'] + chunk['TV_A'] + chunk['TV_N'],\n",
    "                'VOD': chunk['VOD_M'] + chunk['VOD_A'] + chunk['VOD_N'],\n",
    "                'USER_ID': chunk['USER_ID'],\n",
    "                'YEAR_MONTH': chunk['YEAR'] * 100 + chunk['MONTH'],\n",
    "            }\n",
    "        )\n",
    "        yield chunk_sum\n",
    "\n",
    "df = pd.concat(\n",
    "        aggregate_chunk_by_service(clean_chunks(iterate_months_in_chunks(months, year, chunksize)))\n",
    "     )\n",
    "df.head()"
   ]
  },
  {
   "cell_type": "code",
   "execution_count": null,
   "metadata": {
    "collapsed": true
   },
   "outputs": [],
   "source": []
  }
 ],
 "metadata": {
  "hide_input": false,
  "kernelspec": {
   "display_name": "Python [default]",
   "language": "python",
   "name": "python3"
  },
  "language_info": {
   "codemirror_mode": {
    "name": "ipython",
    "version": 3
   },
   "file_extension": ".py",
   "mimetype": "text/x-python",
   "name": "python",
   "nbconvert_exporter": "python",
   "pygments_lexer": "ipython3",
   "version": "3.5.2"
  },
  "toc": {
   "nav_menu": {
    "height": "12px",
    "width": "252px"
   },
   "navigate_menu": true,
   "number_sections": true,
   "sideBar": true,
   "threshold": 4,
   "toc_cell": false,
   "toc_section_display": "block",
   "toc_window_display": false
  }
 },
 "nbformat": 4,
 "nbformat_minor": 2
}

{
 "cells": [
  {
   "cell_type": "markdown",
   "metadata": {},
   "source": [
    "# Generators"
   ]
  },
  {
   "cell_type": "code",
   "execution_count": null,
   "metadata": {
    "ExecuteTime": {
     "end_time": "2018-08-27T13:00:07.855330Z",
     "start_time": "2018-08-27T15:00:06.969013+02:00"
    },
    "collapsed": false
   },
   "outputs": [],
   "source": [
    "# Before starting, we run the \"Generate data\" notebook to make sure we have everything we need.\n",
    "%run \"./01. Generate data.ipynb\""
   ]
  },
  {
   "cell_type": "markdown",
   "metadata": {},
   "source": [
    "## `for` loops in Python are very flexible"
   ]
  },
  {
   "cell_type": "markdown",
   "metadata": {},
   "source": [
    "Classic loop"
   ]
  },
  {
   "cell_type": "code",
   "execution_count": null,
   "metadata": {
    "ExecuteTime": {
     "end_time": "2018-08-27T13:00:23.162810Z",
     "start_time": "2018-08-27T15:00:23.159202+02:00"
    },
    "collapsed": false
   },
   "outputs": [],
   "source": []
  },
  {
   "cell_type": "markdown",
   "metadata": {},
   "source": [
    "Loop over any list"
   ]
  },
  {
   "cell_type": "code",
   "execution_count": null,
   "metadata": {
    "ExecuteTime": {
     "end_time": "2018-08-27T13:00:24.194135Z",
     "start_time": "2018-08-27T15:00:24.191159+02:00"
    },
    "collapsed": false
   },
   "outputs": [],
   "source": []
  },
  {
   "cell_type": "markdown",
   "metadata": {},
   "source": [
    "Loop over a dictionary"
   ]
  },
  {
   "cell_type": "code",
   "execution_count": null,
   "metadata": {
    "ExecuteTime": {
     "end_time": "2018-08-27T13:00:25.652951Z",
     "start_time": "2018-08-27T15:00:25.648709+02:00"
    },
    "collapsed": false
   },
   "outputs": [],
   "source": []
  },
  {
   "cell_type": "markdown",
   "metadata": {},
   "source": [
    "Loop over a text file"
   ]
  },
  {
   "cell_type": "code",
   "execution_count": null,
   "metadata": {
    "ExecuteTime": {
     "end_time": "2018-08-27T13:00:32.459186Z",
     "start_time": "2018-08-27T15:00:32.454655+02:00"
    },
    "collapsed": false,
    "scrolled": true
   },
   "outputs": [],
   "source": [
    "filename = 'consumption_201710.csv')"
   ]
  },
  {
   "cell_type": "markdown",
   "metadata": {},
   "source": [
    "Libraries often define their own \"iterators\""
   ]
  },
  {
   "cell_type": "code",
   "execution_count": null,
   "metadata": {
    "ExecuteTime": {
     "end_time": "2018-08-27T13:00:48.112120Z",
     "start_time": "2018-08-27T15:00:48.094428+02:00"
    },
    "collapsed": false
   },
   "outputs": [],
   "source": [
    "import pandas as pd\n",
    "\n",
    "world_pop = pd.DataFrame(\n",
    "    columns=['Country', '2000', '2015', '2030'], \n",
    "    data=[['China', 1270, 1376, 1416],\n",
    "          ['India', 1053, 1311, 1528],\n",
    "          ['United States', 283, 322, 356],\n",
    "          ['Indonesia', 212, 258, 295]],\n",
    ")\n",
    "world_pop"
   ]
  },
  {
   "cell_type": "markdown",
   "metadata": {},
   "source": [
    "**IMPORTANT CONCEPT: these iterators do not create a list in memory over which `for` iterates!**"
   ]
  },
  {
   "cell_type": "markdown",
   "metadata": {},
   "source": [
    "## Defining your own for-loop thingy: generators\n",
    "\n",
    "\"Generators\" are like functions, but for loops."
   ]
  },
  {
   "cell_type": "markdown",
   "metadata": {},
   "source": [
    "### First contact\n",
    "\n",
    "iterate over the first `n` odd numbers"
   ]
  },
  {
   "cell_type": "code",
   "execution_count": null,
   "metadata": {
    "ExecuteTime": {
     "end_time": "2018-08-27T13:02:05.527269Z",
     "start_time": "2018-08-27T15:02:05.522539+02:00"
    },
    "collapsed": false,
    "scrolled": true
   },
   "outputs": [],
   "source": [
    "def odd_numbers(n):\n",
    "    \"\"\" Generator for the first `n` odd numbers. \"\"\"\n",
    "\n",
    "for i in odd_numbers(5):\n",
    "    print(i)"
   ]
  },
  {
   "cell_type": "markdown",
   "metadata": {},
   "source": [
    "Second example: first `n` numbers not divisible by x"
   ]
  },
  {
   "cell_type": "code",
   "execution_count": null,
   "metadata": {
    "ExecuteTime": {
     "end_time": "2018-08-27T13:02:06.894434Z",
     "start_time": "2018-08-27T15:02:06.890501+02:00"
    },
    "collapsed": true
   },
   "outputs": [],
   "source": [
    "def not_divisibles(n, divisor):\n",
    "    \"\"\" Generator for the first `n` numbers not divisible by x. \"\"\"\n"
   ]
  },
  {
   "cell_type": "code",
   "execution_count": null,
   "metadata": {
    "ExecuteTime": {
     "end_time": "2018-08-27T13:02:07.588267Z",
     "start_time": "2018-08-27T15:02:07.585196+02:00"
    },
    "collapsed": false,
    "scrolled": true
   },
   "outputs": [],
   "source": [
    "for x in not_divisibles(7, 3):\n",
    "    print(x)"
   ]
  },
  {
   "cell_type": "markdown",
   "metadata": {},
   "source": [
    "Generated content does not need to be deterministic, or finite! It could even be generated on the fly."
   ]
  },
  {
   "cell_type": "code",
   "execution_count": null,
   "metadata": {
    "ExecuteTime": {
     "end_time": "2018-08-27T13:02:10.382890Z",
     "start_time": "2018-08-27T15:02:10.378312+02:00"
    },
    "collapsed": false
   },
   "outputs": [],
   "source": [
    "import numpy as np\n",
    "\n",
    "def generate_n_random_numbers(n):\n",
    "    for i in range(n):\n",
    "        yield np.random.uniform()\n",
    "\n",
    "for x in generate_n_random_numbers(5):\n",
    "    print(x)"
   ]
  },
  {
   "cell_type": "markdown",
   "metadata": {},
   "source": [
    "### Hands-on: Your first generator\n",
    "\n",
    "Write a generator that generates even numbers between 0 and `n`.\n",
    "\n",
    "Expected:\n",
    "```\n",
    "for i in even(7):\n",
    "    print(i)\n",
    "```\n",
    "\n",
    "outputs\n",
    "\n",
    "```\n",
    "0\n",
    "2\n",
    "4\n",
    "6\n",
    "```"
   ]
  },
  {
   "cell_type": "code",
   "execution_count": null,
   "metadata": {
    "ExecuteTime": {
     "end_time": "2018-08-27T13:02:39.606230Z",
     "start_time": "2018-08-27T15:02:39.602059+02:00"
    },
    "collapsed": false
   },
   "outputs": [],
   "source": []
  },
  {
   "cell_type": "markdown",
   "metadata": {},
   "source": [
    "### Hands-on: Recognize the smell of generators\n",
    "\n",
    "Get rid of the smell in the code below by defining a generator."
   ]
  },
  {
   "cell_type": "code",
   "execution_count": null,
   "metadata": {
    "ExecuteTime": {
     "end_time": "2018-08-27T13:03:03.727769Z",
     "start_time": "2018-08-27T15:03:03.720145+02:00"
    },
    "collapsed": false
   },
   "outputs": [],
   "source": [
    "for i in range(9):\n",
    "    if i % 3 == 0:\n",
    "        continue\n",
    "    print('Square is', i ** 2)\n",
    "\n",
    "for j in range(5):\n",
    "    if j % 2 == 0:\n",
    "        continue\n",
    "    print('Cube is', j ** 3)\n",
    "\n",
    "for k in range(13):\n",
    "    if k % 5 == 0:\n",
    "        continue\n",
    "    print('A' * k)"
   ]
  },
  {
   "cell_type": "code",
   "execution_count": null,
   "metadata": {
    "ExecuteTime": {
     "end_time": "2018-08-27T13:03:11.519347Z",
     "start_time": "2018-08-27T15:03:11.512678+02:00"
    },
    "collapsed": false
   },
   "outputs": [],
   "source": []
  },
  {
   "cell_type": "markdown",
   "metadata": {},
   "source": [
    "### Hands-on: All pairs (skip)\n",
    "\n",
    "We have a list of subjects whose individual performance needs to be compared in pairs.\n",
    "\n",
    "Write a generator called `all_pairs` that returns all pairs of items from a list\n",
    "\n",
    "E.g. `all_pairs(['A', 'B', 'C'])` will yield three sets `{'A', 'B'}`, `{'A', 'C'}`, `{'B', 'C'}` (not necessarily in this order)\n",
    "\n",
    "Suggestion: starting writing a solution for this task without generators, then transform the for loops in a generator."
   ]
  },
  {
   "cell_type": "code",
   "execution_count": null,
   "metadata": {
    "ExecuteTime": {
     "end_time": "2018-08-27T13:10:40.482706Z",
     "start_time": "2018-08-27T15:10:40.477242+02:00"
    },
    "collapsed": false
   },
   "outputs": [],
   "source": []
  },
  {
   "cell_type": "markdown",
   "metadata": {},
   "source": [
    "### Hands-on: A common generators pattern\n",
    "\n",
    "Write a generator called `without_punctuation` that iterates over a list of strings and removes puncuation characters at the end of the string. If the string is empty after the removal, the string is skipped.\n",
    "\n",
    "For instance, `without_punctuation(['Apple', 'Banana...', 'Carrot!!', '*$', '!Dinosaur'])` would yield `Apple`, `Banana`, `Carrot`, and `!Dinosaur`.\n",
    "\n",
    "(see the `.rstrip` method of strings, and the constant `punctuation` in the module `string`)"
   ]
  },
  {
   "cell_type": "code",
   "execution_count": null,
   "metadata": {
    "ExecuteTime": {
     "end_time": "2018-08-30T19:17:23.054285Z",
     "start_time": "2018-08-30T21:17:23.046171+02:00"
    },
    "collapsed": false,
    "scrolled": true
   },
   "outputs": [],
   "source": []
  },
  {
   "cell_type": "markdown",
   "metadata": {},
   "source": [
    "The pattern in the exercise above is the one that I find most common in my code: refactor common filtering, cleaning up, and transformations in `for` loops.\n",
    "\n",
    "It comes up all the time when processing messy data."
   ]
  },
  {
   "cell_type": "markdown",
   "metadata": {},
   "source": [
    "## Generators can be chained"
   ]
  },
  {
   "cell_type": "code",
   "execution_count": null,
   "metadata": {
    "ExecuteTime": {
     "end_time": "2018-08-30T19:19:00.663292Z",
     "start_time": "2018-08-30T21:19:00.652575+02:00"
    },
    "collapsed": false
   },
   "outputs": [],
   "source": [
    "def readfiles(filenames):\n",
    "    \"\"\" Generator that yields all lines from multiple files. \"\"\"\n",
    "    for filename in filenames:\n",
    "        for line in open(filename):\n",
    "            yield line\n",
    "\n",
    "\n",
    "def filter_pattern(lines, pattern):\n",
    "    \"\"\" Generator that yields all lines that contain a certain string. \"\"\"\n",
    "    for line in lines:\n",
    "        if pattern in line:\n",
    "            yield line\n",
    "\n",
    "\n",
    "def pprint_with_line_numbers(lines):\n",
    "    \"\"\" Format each line in a pretty string. \"\"\"\n",
    "    for idx, line in enumerate(lines):\n",
    "        yield '{} - \"{}\"'.format(idx, line.strip())\n",
    "\n",
    "\n",
    "filenames = ['first_commented_data.csv', 'second_commented_data.csv', 'third_commented_data.csv']\n"
   ]
  },
  {
   "cell_type": "markdown",
   "metadata": {},
   "source": [
    "## Real-life example: ETL workflow for PayTV data\n",
    "\n",
    "Switch to the other notebook"
   ]
  },
  {
   "cell_type": "markdown",
   "metadata": {},
   "source": [
    "### Hands-on: Get rid of the smell!\n",
    "\n",
    "The code below parses 3 CSV containing comment lines that start with the prefix `'# '`, `'-- '`, or `'REM '`.\n",
    "\n",
    "**Get rid of the smell!**"
   ]
  },
  {
   "cell_type": "code",
   "execution_count": null,
   "metadata": {
    "ExecuteTime": {
     "end_time": "2018-07-27T06:44:09.499046Z",
     "start_time": "2018-07-27T08:44:09.459464+02:00"
    },
    "collapsed": false
   },
   "outputs": [],
   "source": [
    "# Script that computes the sum of all the columns in 3 CSV files that contain commented lines\n",
    "\n",
    "comment_prefixes = ['# ', '-- ', 'REM ']\n",
    "\n",
    "filename1 = 'first_commented_data.csv'\n",
    "print('Load data from', filename1)\n",
    "with open(filename1, 'rt') as f:\n",
    "    valid_lines = []\n",
    "    for line in f:\n",
    "        for prefix in comment_prefixes:\n",
    "            if line.startswith(prefix):\n",
    "                break\n",
    "        else:\n",
    "            data = [int(x) for x in line.split(',')]\n",
    "            valid_lines.append(data)\n",
    "\n",
    "data1 = pd.DataFrame(valid_lines, columns=['unci', 'dunci', 'trinci', 'quari'])\n",
    "\n",
    "\n",
    "filename2 = 'second_commented_data.csv'\n",
    "print('Load data from', filename2)\n",
    "with open(filename2, 'rt') as f:\n",
    "    valid_lines = []\n",
    "    for line in f:\n",
    "        for prefix in comment_prefixes:\n",
    "            if line.startswith(prefix):\n",
    "                break\n",
    "        else:\n",
    "            data = [int(x) for x in line.split(',')]\n",
    "            valid_lines.append(data)\n",
    "\n",
    "data2 = pd.DataFrame(valid_lines, columns=['unci', 'dunci', 'trinci', 'quari'])\n",
    "\n",
    "\n",
    "filename3 = 'third_commented_data.csv'\n",
    "print('Load data from', filename3)\n",
    "with open(filename3, 'rt') as f:\n",
    "    valid_lines = []\n",
    "    for line in f:\n",
    "        for prefix in comment_prefixes:\n",
    "            if line.startswith(prefix):\n",
    "                break\n",
    "        else:\n",
    "            data = [int(x) for x in line.split(',')]\n",
    "            valid_lines.append(data)\n",
    "\n",
    "data3 = pd.DataFrame(valid_lines, columns=['unci', 'dunci', 'trinci', 'quari'])\n",
    "\n",
    "print(data1.sum() + data2.sum() + data3.sum())"
   ]
  },
  {
   "cell_type": "code",
   "execution_count": null,
   "metadata": {
    "collapsed": true
   },
   "outputs": [],
   "source": []
  },
  {
   "cell_type": "code",
   "execution_count": null,
   "metadata": {
    "collapsed": true
   },
   "outputs": [],
   "source": []
  },
  {
   "cell_type": "code",
   "execution_count": null,
   "metadata": {
    "collapsed": true
   },
   "outputs": [],
   "source": []
  },
  {
   "cell_type": "code",
   "execution_count": null,
   "metadata": {
    "collapsed": true
   },
   "outputs": [],
   "source": []
  },
  {
   "cell_type": "code",
   "execution_count": null,
   "metadata": {
    "collapsed": true
   },
   "outputs": [],
   "source": []
  },
  {
   "cell_type": "markdown",
   "metadata": {},
   "source": [
    "Solution 1"
   ]
  },
  {
   "cell_type": "code",
   "execution_count": null,
   "metadata": {
    "ExecuteTime": {
     "end_time": "2018-07-27T06:52:58.446374Z",
     "start_time": "2018-07-27T08:52:58.429084+02:00"
    },
    "collapsed": false
   },
   "outputs": [],
   "source": [
    "CSV_COMMENT_PREFIXES = ['# ', '-- ', 'REM ']\n",
    "\n",
    "def lines_without_comments(filename, comment_prefixes=CSV_COMMENT_PREFIXES):\n",
    "    with open(filename, 'rt') as f:\n",
    "        valid_lines = []\n",
    "        for line in f:\n",
    "            for prefix in comment_prefixes:\n",
    "                if line.startswith(prefix):\n",
    "                    break\n",
    "            else:\n",
    "                data = [int(x) for x in line.split(',')]\n",
    "                yield data\n",
    "\n",
    "filenames = ['first_commented_data.csv', 'second_commented_data.csv', 'third_commented_data.csv']\n",
    "data = []\n",
    "for filename in filenames:\n",
    "    print('Load data from', filename)\n",
    "    data_chunk = pd.DataFrame(\n",
    "        lines_without_comments(filename),\n",
    "        columns=['unci', 'dunci', 'trinci', 'quari'],\n",
    "    )\n",
    "    data.append(data_chunk)\n",
    "\n",
    "data = pd.concat(data)\n",
    "print(data.sum())"
   ]
  },
  {
   "cell_type": "markdown",
   "metadata": {},
   "source": [
    "Solution 2"
   ]
  },
  {
   "cell_type": "code",
   "execution_count": null,
   "metadata": {
    "ExecuteTime": {
     "end_time": "2018-07-27T06:52:05.145445Z",
     "start_time": "2018-07-27T08:52:05.129880+02:00"
    },
    "collapsed": false
   },
   "outputs": [],
   "source": [
    "CSV_COMMENT_PREFIXES = ['# ', '-- ', 'REM ']\n",
    "\n",
    "\n",
    "def readfiles(filenames):\n",
    "    \"\"\" Generator that yields all lines from multiple files. \"\"\"\n",
    "    for filename in filenames:\n",
    "        for line in open(filename, 'rt'):\n",
    "            yield line\n",
    "\n",
    "\n",
    "def filter_comments(lines, comment_prefixes=CSV_COMMENT_PREFIXES):\n",
    "    \"\"\" Generator that yields all lines that do not start with comment prefixes. \"\"\"\n",
    "    for line in lines:\n",
    "        for prefix in comment_prefixes:\n",
    "            if line.startswith(prefix):\n",
    "                break\n",
    "        else:\n",
    "            yield line\n",
    "\n",
    "\n",
    "def parse_data(lines):\n",
    "    \"\"\" Generator that parses each line as a list of integers. \"\"\"\n",
    "    for line in lines:\n",
    "        yield [int(x) for x in line.split(',')]\n",
    "\n",
    "        \n",
    "filenames = ['first_commented_data.csv', 'second_commented_data.csv', 'third_commented_data.csv']\n",
    "data = pd.DataFrame(\n",
    "    parse_data(filter_comments(readfiles(filenames))),\n",
    "    columns=['unci', 'dunci', 'trinci', 'quari'],\n",
    ")\n",
    "print(data.sum())"
   ]
  },
  {
   "cell_type": "markdown",
   "metadata": {},
   "source": [
    "## itertools (time permitting)\n",
    "\n",
    "A tour of the content of `itertools`.\n",
    "\n",
    "https://docs.python.org/3.6/library/itertools.html\n"
   ]
  },
  {
   "cell_type": "markdown",
   "metadata": {},
   "source": [
    "A typical case that shows up in my code: going through combinations of experimental conditions."
   ]
  },
  {
   "cell_type": "code",
   "execution_count": null,
   "metadata": {
    "ExecuteTime": {
     "end_time": "2018-07-27T07:36:20.255688Z",
     "start_time": "2018-07-27T09:36:20.249207+02:00"
    },
    "collapsed": false
   },
   "outputs": [],
   "source": [
    "from itertools import product\n",
    "\n",
    "concentrations = [1, 10, 100]\n",
    "times = [60, 120, 180]\n",
    "applications = [1, 2, 3]\n",
    "\n",
    "for idx, (concentration, time, application) in enumerate(product(concentrations, times, applications)):\n",
    "    print('Run experiment #{}'.format(idx))\n",
    "    print('Concentration', concentration)\n",
    "    print('Time', time)\n",
    "    print('Applications', application)\n",
    "    print()"
   ]
  },
  {
   "cell_type": "markdown",
   "metadata": {},
   "source": [
    "Another common case is when one needs to compute statistics on all pairs of variables"
   ]
  },
  {
   "cell_type": "code",
   "execution_count": null,
   "metadata": {
    "ExecuteTime": {
     "end_time": "2018-07-27T07:42:49.431062Z",
     "start_time": "2018-07-27T09:42:49.419697+02:00"
    },
    "collapsed": false
   },
   "outputs": [],
   "source": [
    "df = pd.DataFrame(\n",
    "    data = [[1, 0.1, 32],\n",
    "            [4, 0.3, 11],\n",
    "            [8, 0.9, 1],\n",
    "            [12, 0.12, -4]],\n",
    "    columns=['unci', 'dunci', 'trinci']\n",
    ")\n",
    "df"
   ]
  },
  {
   "cell_type": "code",
   "execution_count": null,
   "metadata": {
    "ExecuteTime": {
     "end_time": "2018-07-27T07:44:27.159110Z",
     "start_time": "2018-07-27T09:44:27.152197+02:00"
    },
    "collapsed": false
   },
   "outputs": [],
   "source": [
    "# Without itertools\n",
    "\n",
    "n_cols = df.shape[1]\n",
    "for idx1 in range(n_cols):\n",
    "    for idx2 in range(idx1 + 1, n_cols):\n",
    "        corr = (df.iloc[:, idx1] * df.iloc[:, idx2]).sum()\n",
    "        print(df.columns[idx1], df.columns[idx2], corr)"
   ]
  },
  {
   "cell_type": "code",
   "execution_count": null,
   "metadata": {
    "ExecuteTime": {
     "end_time": "2018-07-27T07:45:24.540659Z",
     "start_time": "2018-07-27T09:45:24.534820+02:00"
    },
    "collapsed": false,
    "scrolled": true
   },
   "outputs": [],
   "source": [
    "# With itertools\n",
    "from itertools import combinations\n",
    "\n",
    "for col1, col2 in combinations(df.columns, 2):\n",
    "    corr = (df.loc[:, col1] * df.loc[:, col2]).sum()\n",
    "    print(col1, col2, corr)"
   ]
  },
  {
   "cell_type": "markdown",
   "metadata": {},
   "source": [
    "### Hands-on\n",
    "\n",
    "Write a generator that deals cards at random from a deck of card."
   ]
  },
  {
   "cell_type": "code",
   "execution_count": null,
   "metadata": {
    "collapsed": true
   },
   "outputs": [],
   "source": []
  }
 ],
 "metadata": {
  "hide_input": false,
  "kernelspec": {
   "display_name": "Python [conda env:scratch]",
   "language": "python",
   "name": "conda-env-scratch-py"
  },
  "language_info": {
   "codemirror_mode": {
    "name": "ipython",
    "version": 3
   },
   "file_extension": ".py",
   "mimetype": "text/x-python",
   "name": "python",
   "nbconvert_exporter": "python",
   "pygments_lexer": "ipython3",
   "version": "3.5.2"
  },
  "toc": {
   "nav_menu": {
    "height": "225px",
    "width": "252px"
   },
   "navigate_menu": true,
   "number_sections": true,
   "sideBar": true,
   "threshold": 4,
   "toc_cell": false,
   "toc_position": {
    "height": "953px",
    "left": "0px",
    "right": "1258px",
    "top": "127px",
    "width": "276px"
   },
   "toc_section_display": "block",
   "toc_window_display": false
  }
 },
 "nbformat": 4,
 "nbformat_minor": 2
}

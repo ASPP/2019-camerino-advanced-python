{
 "cells": [
  {
   "cell_type": "markdown",
   "metadata": {},
   "source": [
    "# Generators"
   ]
  },
  {
   "cell_type": "markdown",
   "metadata": {},
   "source": [
    "## for loops in Python are very flexible"
   ]
  },
  {
   "cell_type": "markdown",
   "metadata": {},
   "source": [
    "Classic loop"
   ]
  },
  {
   "cell_type": "code",
   "execution_count": 63,
   "metadata": {
    "ExecuteTime": {
     "end_time": "2018-07-25T11:21:28.809791Z",
     "start_time": "2018-07-25T13:21:28.806504+02:00"
    },
    "collapsed": false
   },
   "outputs": [
    {
     "name": "stdout",
     "output_type": "stream",
     "text": [
      "0\n",
      "1\n",
      "2\n",
      "3\n"
     ]
    }
   ],
   "source": [
    "for i in range(4):\n",
    "    print(i)"
   ]
  },
  {
   "cell_type": "markdown",
   "metadata": {},
   "source": [
    "Loop over any list"
   ]
  },
  {
   "cell_type": "code",
   "execution_count": 73,
   "metadata": {
    "ExecuteTime": {
     "end_time": "2018-07-25T11:26:29.328910Z",
     "start_time": "2018-07-25T13:26:29.325924+02:00"
    },
    "collapsed": false
   },
   "outputs": [
    {
     "name": "stdout",
     "output_type": "stream",
     "text": [
      "Cheese\n",
      "Sausage\n",
      "Bread\n"
     ]
    }
   ],
   "source": [
    "for word in ['Cheese', 'Sausage', 'Bread']:\n",
    "    print(word)"
   ]
  },
  {
   "cell_type": "markdown",
   "metadata": {},
   "source": [
    "Loop over a dictionary"
   ]
  },
  {
   "cell_type": "code",
   "execution_count": 74,
   "metadata": {
    "ExecuteTime": {
     "end_time": "2018-07-25T11:26:45.485715Z",
     "start_time": "2018-07-25T13:26:45.481142+02:00"
    },
    "collapsed": false
   },
   "outputs": [
    {
     "name": "stdout",
     "output_type": "stream",
     "text": [
      "sottaceti -> pickles\n",
      "ciao -> hi\n",
      "pizza -> pizza\n"
     ]
    }
   ],
   "source": [
    "italian_to_english = {\n",
    "    'ciao': 'hi',\n",
    "    'sottaceti': 'pickles',\n",
    "    'pizza': 'pizza',\n",
    "}\n",
    "\n",
    "for italian, english in italian_to_english.items():\n",
    "    print(italian, '->', english)"
   ]
  },
  {
   "cell_type": "markdown",
   "metadata": {},
   "source": [
    "Loop over a text file"
   ]
  },
  {
   "cell_type": "code",
   "execution_count": 72,
   "metadata": {
    "ExecuteTime": {
     "end_time": "2018-07-25T11:25:20.887053Z",
     "start_time": "2018-07-25T13:25:20.882720+02:00"
    },
    "collapsed": false,
    "scrolled": true
   },
   "outputs": [
    {
     "name": "stdout",
     "output_type": "stream",
     "text": [
      "USER_ID,TV_201710_M,TV_201710_A,TV_201710_N,VOD_201710_M,VOD_201710_A,VOD_201710_N\n",
      "0,1690,2515,4285,892,953,2805\n",
      "1,1243,1952,3105,1240,1259,3711\n",
      "2,1203,1797,2910,200,162,538\n",
      "3,312,461,787,1256,1261,3663\n",
      "4,242,379,609,215,226,729\n",
      "5,279,394,677,97,106,307\n",
      "6,105,123,222,911,916,2703\n",
      "7,468,677,1015,233,272,695\n",
      "8,1702,2607,4301,238,212,660\n",
      "9,547,774,1409,183,228,549\n",
      "10,926,1362,2302,668,690,1972\n",
      "11,316,433,721,1215,1208,3517\n",
      "12,1483,2049,3428,638,680,1862\n",
      "13,306,487,887,1397,1487,4256\n",
      "14,462,679,1049,138,148,464\n",
      "15,823,1216,2011,740,689,2201\n",
      "16,1914,2761,4415,375,377,1228\n",
      "17,217,373,610,1333,1250,3867\n",
      "18,798,1116,1866,493,498,1589\n",
      "19,2012,3080,4808,1024,1004,2922\n",
      "20,1494,2299,3917,895,985,2620\n",
      "21,1026,1562,2602,1375,1350,4055\n",
      "22,641,931,1518,416,454,1320\n",
      "23,767,1190,1853,960,947,2863\n",
      "24,808,1219,1993,605,599,1826\n",
      "25,782,1124,1874,232,269,759\n",
      "26,2040,2971,5039,1341,1308,3921\n",
      "27,845,1324,2151,1101,1133,3226\n",
      "28,1668,2586,4146,479,478,1533\n",
      "29,633,883,1514,1026,1071,3243\n",
      "30,1272,1999,3119,415,433,1282\n",
      "31,815,1284,2101,488,472,1410\n",
      "32,1706,2557,4287,552,507,1701\n",
      "33,743,1174,1863,560,558,1582\n",
      "34,374,523,933,430,473,1287\n",
      "35,1429,2089,3682,313,305,882\n",
      "36,1984,2897,4719,518,494,1568\n",
      "37,1678,2444,4308,217,247,736\n",
      "38,245,309,526,274,270,746\n",
      "39,1046,1609,2715,930,867,2613\n",
      "40,1258,1871,3141,1218,1134,3498\n",
      "41,1571,2381,3938,967,1005,3068\n",
      "42,1255,1883,3012,510,481,1559\n",
      "43,1346,2055,3409,973,974,2943\n",
      "44,1174,1710,3086,1132,1117,3271\n",
      "45,703,1037,1740,407,419,1154\n",
      "46,1588,2310,3932,961,896,2763\n",
      "47,1689,2434,4157,563,618,1759\n",
      "48,1840,2711,4449,1049,1063,3168\n",
      "49,1520,2306,3854,548,551,1661\n",
      "50,1896,2802,4752,732,693,2115\n",
      "51,594,915,1431,233,242,695\n",
      "52,1898,2692,4560,96,126,378\n",
      "53,517,828,1355,512,542,1436\n",
      "54,567,873,1500,60,80,220\n",
      "55,154,227,369,1090,1133,3267\n",
      "56,1713,2625,4422,504,478,1448\n",
      "57,1603,2457,4130,799,865,2386\n",
      "58,459,745,1166,225,218,637\n",
      "59,1345,1910,3315,314,299,917\n",
      "60,1083,1597,2720,633,599,1828\n",
      "61,1134,1707,2739,846,846,2628\n",
      "62,1305,1876,3269,271,289,910\n",
      "63,1529,2402,3929,734,702,2044\n",
      "64,396,561,903,1204,1326,3860\n",
      "65,1102,1734,2834,241,243,716\n",
      "66,1006,1522,2572,1121,1072,3387\n",
      "67,508,798,1274,980,1026,3094\n",
      "68,2087,3045,5068,1330,1368,4052\n",
      "69,346,601,883,1329,1407,4014\n",
      "70,1494,2204,3712,1221,1256,3703\n",
      "71,338,483,829,69,73,188\n",
      "72,647,976,1557,1303,1324,3913\n",
      "73,202,273,485,570,545,1645\n",
      "74,84,163,233,1297,1291,3892\n",
      "75,1372,2124,3524,120,130,350\n",
      "76,2153,3181,5076,257,205,678\n",
      "77,1050,1543,2657,1234,1265,3891\n",
      "78,848,1222,2010,889,1029,2942\n",
      "79,340,474,806,613,586,1711\n",
      "80,1757,2572,4371,99,92,319\n",
      "81,1608,2441,4081,456,441,1383\n",
      "82,1812,2809,4739,1363,1461,4286\n",
      "83,1593,2158,3659,824,832,2544\n",
      "84,1738,2687,4455,110,107,293\n",
      "85,1094,1581,2695,805,775,2320\n",
      "86,383,612,1045,656,660,1924\n",
      "87,1039,1605,2546,718,692,2130\n",
      "88,90,123,207,367,353,1020\n",
      "89,750,1118,1762,282,247,761\n",
      "90,532,825,1253,719,743,2168\n",
      "91,1305,1968,3297,102,110,298\n",
      "92,1567,2298,3785,750,729,2301\n",
      "93,978,1482,2460,1426,1332,4082\n",
      "94,995,1404,2341,467,492,1561\n",
      "95,1875,2899,4856,144,101,355\n",
      "96,1154,1821,2965,749,738,2173\n",
      "97,1858,2568,4424,938,922,2760\n",
      "98,1747,2601,4412,659,697,2034\n",
      "99,763,1179,1958,340,312,968\n"
     ]
    }
   ],
   "source": [
    "with open('consumption_201710.csv') as f:\n",
    "    for line in f:\n",
    "        print(line, end='')"
   ]
  },
  {
   "cell_type": "markdown",
   "metadata": {},
   "source": [
    "Libraries often define their own \"iterators\""
   ]
  },
  {
   "cell_type": "code",
   "execution_count": 6,
   "metadata": {
    "ExecuteTime": {
     "end_time": "2018-07-25T07:30:16.664639Z",
     "start_time": "2018-07-25T09:30:16.639417+02:00"
    },
    "collapsed": false
   },
   "outputs": [
    {
     "data": {
      "text/html": [
       "<div>\n",
       "<style scoped>\n",
       "    .dataframe tbody tr th:only-of-type {\n",
       "        vertical-align: middle;\n",
       "    }\n",
       "\n",
       "    .dataframe tbody tr th {\n",
       "        vertical-align: top;\n",
       "    }\n",
       "\n",
       "    .dataframe thead th {\n",
       "        text-align: right;\n",
       "    }\n",
       "</style>\n",
       "<table border=\"1\" class=\"dataframe\">\n",
       "  <thead>\n",
       "    <tr style=\"text-align: right;\">\n",
       "      <th></th>\n",
       "      <th>Country</th>\n",
       "      <th>2000</th>\n",
       "      <th>2015</th>\n",
       "      <th>2030</th>\n",
       "    </tr>\n",
       "  </thead>\n",
       "  <tbody>\n",
       "    <tr>\n",
       "      <th>0</th>\n",
       "      <td>China</td>\n",
       "      <td>1270</td>\n",
       "      <td>1376</td>\n",
       "      <td>1416</td>\n",
       "    </tr>\n",
       "    <tr>\n",
       "      <th>1</th>\n",
       "      <td>India</td>\n",
       "      <td>1053</td>\n",
       "      <td>1311</td>\n",
       "      <td>1528</td>\n",
       "    </tr>\n",
       "    <tr>\n",
       "      <th>2</th>\n",
       "      <td>United States</td>\n",
       "      <td>283</td>\n",
       "      <td>322</td>\n",
       "      <td>356</td>\n",
       "    </tr>\n",
       "    <tr>\n",
       "      <th>3</th>\n",
       "      <td>Indonesia</td>\n",
       "      <td>212</td>\n",
       "      <td>258</td>\n",
       "      <td>295</td>\n",
       "    </tr>\n",
       "  </tbody>\n",
       "</table>\n",
       "</div>"
      ],
      "text/plain": [
       "         Country  2000  2015  2030\n",
       "0          China  1270  1376  1416\n",
       "1          India  1053  1311  1528\n",
       "2  United States   283   322   356\n",
       "3      Indonesia   212   258   295"
      ]
     },
     "execution_count": 6,
     "metadata": {},
     "output_type": "execute_result"
    }
   ],
   "source": [
    "import pandas as pd\n",
    "\n",
    "world_pop = pd.DataFrame(\n",
    "    columns=['Country', '2000', '2015', '2030'], \n",
    "    data=[['China', 1270, 1376, 1416],\n",
    "          ['India', 1053, 1311, 1528],\n",
    "          ['United States', 283, 322, 356],\n",
    "          ['Indonesia', 212, 258, 295]],\n",
    ")\n",
    "world_pop"
   ]
  },
  {
   "cell_type": "code",
   "execution_count": 11,
   "metadata": {
    "ExecuteTime": {
     "end_time": "2018-07-25T07:30:57.836984Z",
     "start_time": "2018-07-25T09:30:57.834199+02:00"
    },
    "collapsed": false
   },
   "outputs": [
    {
     "name": "stdout",
     "output_type": "stream",
     "text": [
      "Country\n",
      "2000\n",
      "2015\n",
      "2030\n"
     ]
    }
   ],
   "source": [
    "for column_name in world_pop:\n",
    "    print(column_name)"
   ]
  },
  {
   "cell_type": "code",
   "execution_count": 89,
   "metadata": {
    "ExecuteTime": {
     "end_time": "2018-07-25T11:31:20.287276Z",
     "start_time": "2018-07-25T13:31:20.281018+02:00"
    },
    "collapsed": false
   },
   "outputs": [
    {
     "name": "stdout",
     "output_type": "stream",
     "text": [
      "---0---\n",
      "Country    China\n",
      "2000        1270\n",
      "2015        1376\n",
      "2030        1416\n",
      "Name: 0, dtype: object\n",
      "---1---\n",
      "Country    India\n",
      "2000        1053\n",
      "2015        1311\n",
      "2030        1528\n",
      "Name: 1, dtype: object\n",
      "---2---\n",
      "Country    United States\n",
      "2000                 283\n",
      "2015                 322\n",
      "2030                 356\n",
      "Name: 2, dtype: object\n",
      "---3---\n",
      "Country    Indonesia\n",
      "2000             212\n",
      "2015             258\n",
      "2030             295\n",
      "Name: 3, dtype: object\n"
     ]
    }
   ],
   "source": [
    "for idx, row in world_pop.iterrows():\n",
    "    print('{0:-^7}'.format(idx))\n",
    "    print(row)"
   ]
  },
  {
   "cell_type": "markdown",
   "metadata": {},
   "source": [
    "## Defining your own for-loop thingy: generators"
   ]
  },
  {
   "cell_type": "markdown",
   "metadata": {},
   "source": [
    "### First contact\n",
    "\n",
    "iterate over the first `n` odd numbers"
   ]
  },
  {
   "cell_type": "code",
   "execution_count": 96,
   "metadata": {
    "ExecuteTime": {
     "end_time": "2018-07-25T11:34:59.102702Z",
     "start_time": "2018-07-25T13:34:59.098240+02:00"
    },
    "collapsed": false,
    "scrolled": true
   },
   "outputs": [
    {
     "name": "stdout",
     "output_type": "stream",
     "text": [
      "1\n",
      "3\n",
      "5\n",
      "7\n",
      "9\n"
     ]
    }
   ],
   "source": [
    "def odd_numbers(n):\n",
    "    \"\"\" Generator for the first `n` odd numbers. \"\"\"\n",
    "    for i in range(n):\n",
    "        # Use `yield` instead of `return`: execution will start again from here\n",
    "        yield i * 2 + 1\n",
    "\n",
    "for i in odd_numbers(5):\n",
    "    print(i)"
   ]
  },
  {
   "cell_type": "markdown",
   "metadata": {},
   "source": [
    "Second example: first `n` numbers not divisible by x"
   ]
  },
  {
   "cell_type": "code",
   "execution_count": 97,
   "metadata": {
    "ExecuteTime": {
     "end_time": "2018-07-25T11:43:49.561648Z",
     "start_time": "2018-07-25T13:43:49.557642+02:00"
    },
    "collapsed": true
   },
   "outputs": [],
   "source": [
    "def not_divisibles(n, divisor):\n",
    "    current = 0\n",
    "    while n > 0:\n",
    "        if (current % divisor != 0):\n",
    "            yield current\n",
    "            n -= 1\n",
    "        current += 1"
   ]
  },
  {
   "cell_type": "code",
   "execution_count": 101,
   "metadata": {
    "ExecuteTime": {
     "end_time": "2018-07-25T11:44:51.649531Z",
     "start_time": "2018-07-25T13:44:51.646029+02:00"
    },
    "collapsed": false
   },
   "outputs": [
    {
     "name": "stdout",
     "output_type": "stream",
     "text": [
      "1\n",
      "2\n",
      "4\n",
      "5\n",
      "7\n",
      "8\n",
      "10\n"
     ]
    }
   ],
   "source": [
    "for x in not_divisibles(7, 3):\n",
    "    print(x)"
   ]
  },
  {
   "cell_type": "markdown",
   "metadata": {},
   "source": [
    "Generated content does not need to be deterministic, or finite!\n",
    "(Skip this?)"
   ]
  },
  {
   "cell_type": "code",
   "execution_count": 41,
   "metadata": {
    "ExecuteTime": {
     "end_time": "2018-07-25T07:48:11.152062Z",
     "start_time": "2018-07-25T09:48:11.147306+02:00"
    },
    "collapsed": false
   },
   "outputs": [
    {
     "name": "stdout",
     "output_type": "stream",
     "text": [
      "0.4619555775621401\n",
      "0.12155224601900061\n",
      "0.4372532548202044\n",
      "0.38146244862334666\n",
      "0.37110685251188813\n"
     ]
    }
   ],
   "source": [
    "import numpy as np\n",
    "\n",
    "def generate_n_random_numbers(n):\n",
    "    for i in range(n):\n",
    "        yield np.random.uniform()\n",
    "\n",
    "for x in generate_n_random_numbers(5):\n",
    "    print(x)"
   ]
  },
  {
   "cell_type": "markdown",
   "metadata": {},
   "source": [
    "What do you suggest to make the random number generation repeatable?"
   ]
  },
  {
   "cell_type": "code",
   "execution_count": 48,
   "metadata": {
    "ExecuteTime": {
     "end_time": "2018-07-25T07:49:00.970333Z",
     "start_time": "2018-07-25T09:49:00.965248+02:00"
    },
    "collapsed": false
   },
   "outputs": [
    {
     "name": "stdout",
     "output_type": "stream",
     "text": [
      "0.8185248652607853\n",
      "0.4339316753475848\n",
      "0.42732389125630066\n",
      "0.16523422841675972\n",
      "0.1816074798396904\n"
     ]
    }
   ],
   "source": [
    "import numpy as np\n",
    "\n",
    "def generate_n_random_numbers(n, random_state=np.random):\n",
    "    for i in range(n):\n",
    "        yield random_state.uniform()\n",
    "\n",
    "random_state = np.random.RandomState(99393)\n",
    "for x in generate_n_random_numbers(5, random_state=random_state):\n",
    "    print(x)"
   ]
  },
  {
   "cell_type": "markdown",
   "metadata": {},
   "source": [
    "### Exercise\n",
    "\n",
    "Write a generator called `all_pairs` that returns all pairs of items from a list\n",
    "\n",
    "E.g. `all_pairs(['A', 'B', 'C'])` will yield three sets `{'A', 'B'}`, `{'A', 'C'}`, `{'B', 'C'}` (not necessarily in this order)"
   ]
  },
  {
   "cell_type": "code",
   "execution_count": 107,
   "metadata": {
    "ExecuteTime": {
     "end_time": "2018-07-26T07:15:25.621985Z",
     "start_time": "2018-07-26T09:15:25.609116+02:00"
    },
    "collapsed": false
   },
   "outputs": [
    {
     "name": "stdout",
     "output_type": "stream",
     "text": [
      "{'A', 'B'}\n",
      "{'C', 'A'}\n",
      "{'C', 'B'}\n"
     ]
    }
   ],
   "source": [
    "def all_pairs(lst):\n",
    "    len_lst = len(lst)\n",
    "    for idx1 in range(len_lst):\n",
    "        for idx2 in range(idx1 + 1, len_lst):\n",
    "            yield {lst[idx1], lst[idx2]}\n",
    "\n",
    "\n",
    "for pair in all_pairs(['A', 'B', 'C']):\n",
    "    print(pair)"
   ]
  },
  {
   "cell_type": "markdown",
   "metadata": {},
   "source": [
    "### Exercise\n",
    "\n",
    "Write a generator called `without_punctuation` that iterates over a list of strings and removes puncuation characters at the end of the string. If the string is empty after the removal, the string is skipped.\n",
    "\n",
    "For instance, `without_punctuation(['Apple', 'Banana...', 'Carrot!!', '*$', '!Dinosaur'])` would yield `Apple`, `Banana`, `Carrot`, and `!Dinosaur`.\n",
    "\n",
    "(see the `.rstrip` method of strings, and the constant `punctuation` in the module `string`)"
   ]
  },
  {
   "cell_type": "code",
   "execution_count": 106,
   "metadata": {
    "ExecuteTime": {
     "end_time": "2018-07-25T11:52:31.352292Z",
     "start_time": "2018-07-25T13:52:31.346650+02:00"
    },
    "collapsed": false,
    "scrolled": true
   },
   "outputs": [
    {
     "name": "stdout",
     "output_type": "stream",
     "text": [
      "Apple\n",
      "Banana\n",
      "Carrot\n",
      "!Dinosaur\n"
     ]
    }
   ],
   "source": [
    "from string import punctuation\n",
    "\n",
    "def iter_strip_punctuation(words):\n",
    "    for word in words:\n",
    "        stripped = word.rstrip(punctuation)\n",
    "        if len(stripped) > 0:\n",
    "            yield stripped\n",
    "\n",
    "words = ['Apple', 'Banana...', 'Carrot!!', '*$', '!Dinosaur']\n",
    "for word in iter_strip_punctuation(words):\n",
    "    print(word)"
   ]
  },
  {
   "cell_type": "markdown",
   "metadata": {},
   "source": [
    "The pattern in the exercise above is the one that I find most common in my code: refactor common filtering, cleaning up, and transformations in `for` loops.\n",
    "\n",
    "It comes up all the time when processing messy data."
   ]
  },
  {
   "cell_type": "markdown",
   "metadata": {},
   "source": [
    "## Real-life example: ETL workflow for PayTV data\n",
    "\n",
    "Switch to the other notebook"
   ]
  },
  {
   "cell_type": "markdown",
   "metadata": {},
   "source": [
    "## Generators can be chained"
   ]
  },
  {
   "cell_type": "code",
   "execution_count": 141,
   "metadata": {
    "ExecuteTime": {
     "end_time": "2018-07-27T06:59:07.660631Z",
     "start_time": "2018-07-27T08:59:07.649878+02:00"
    },
    "collapsed": false
   },
   "outputs": [
    {
     "name": "stdout",
     "output_type": "stream",
     "text": [
      "0 - \"REM Skip me\"\n",
      "1 - \"REM Do not bother\"\n",
      "2 - \"REM Skip me\"\n",
      "3 - \"REM Ignore this line\"\n",
      "4 - \"REM Ignore this line\"\n",
      "5 - \"REM Skip me\"\n",
      "6 - \"REM Do not bother\"\n",
      "7 - \"REM Skip me\"\n",
      "8 - \"REM Ignore this line\"\n",
      "9 - \"REM Do not bother\"\n",
      "10 - \"REM Skip me\"\n",
      "11 - \"REM Do not bother\"\n",
      "12 - \"REM Do not bother\"\n",
      "13 - \"REM Skip me\"\n",
      "14 - \"REM Do not bother\"\n",
      "15 - \"REM Skip me\"\n",
      "16 - \"REM Skip me\"\n",
      "17 - \"REM Do not bother\"\n",
      "18 - \"REM Ignore this line\"\n",
      "19 - \"REM Skip me\"\n",
      "20 - \"REM Ignore this line\"\n",
      "21 - \"REM Do not bother\"\n",
      "22 - \"REM Skip me\"\n",
      "23 - \"REM Ignore this line\"\n",
      "24 - \"REM Skip me\"\n",
      "25 - \"REM Skip me\"\n",
      "26 - \"REM Ignore this line\"\n",
      "27 - \"REM Skip me\"\n",
      "28 - \"REM Do not bother\"\n",
      "29 - \"REM Ignore this line\"\n",
      "30 - \"REM Skip me\"\n",
      "31 - \"REM Do not bother\"\n",
      "32 - \"REM Do not bother\"\n",
      "33 - \"REM Ignore this line\"\n",
      "34 - \"REM Skip me\"\n",
      "35 - \"REM Do not bother\"\n",
      "36 - \"REM Do not bother\"\n",
      "37 - \"REM Skip me\"\n",
      "38 - \"REM Do not bother\"\n",
      "39 - \"REM Ignore this line\"\n",
      "40 - \"REM Ignore this line\"\n",
      "41 - \"REM Ignore this line\"\n"
     ]
    }
   ],
   "source": [
    "def readfiles(filenames):\n",
    "    \"\"\" Generator that yields all lines from multiple files. \"\"\"\n",
    "    for filename in filenames:\n",
    "        for line in open(filename):\n",
    "            yield line\n",
    "\n",
    "def grep(lines, pattern):\n",
    "    \"\"\" Generator that yields all lines that contain a certain string. \"\"\"\n",
    "    for line in lines:\n",
    "        if pattern in line:\n",
    "            yield line\n",
    "\n",
    "\n",
    "def number_lines(lines):\n",
    "    \"\"\" Format each line in a pretty string. \"\"\"\n",
    "    for idx, line in enumerate(lines):\n",
    "        yield '{} - \"{}\"'.format(idx, line.strip())\n",
    "\n",
    "\n",
    "filenames = ['first_commented_data.csv', 'second_commented_data.csv', 'third_commented_data.csv']\n",
    "\n",
    "for line in number_lines(grep(readfiles(filenames), pattern='REM')):\n",
    "    print(line)\n"
   ]
  },
  {
   "cell_type": "markdown",
   "metadata": {},
   "source": [
    "### Exercise\n",
    "\n",
    "The code below parses 3 CSV containing comment lines that start with the prefix `'# '`, `'-- '`, or `'REM '`.\n",
    "\n",
    "**Get rid of the smell!**"
   ]
  },
  {
   "cell_type": "code",
   "execution_count": 135,
   "metadata": {
    "ExecuteTime": {
     "end_time": "2018-07-27T06:44:09.499046Z",
     "start_time": "2018-07-27T08:44:09.459464+02:00"
    },
    "collapsed": false
   },
   "outputs": [
    {
     "name": "stdout",
     "output_type": "stream",
     "text": [
      "Load data from first_commented_data.csv\n",
      "Load data from second_commented_data.csv\n",
      "Load data from third_commented_data.csv\n",
      "unci      254425\n",
      "dunci     244622\n",
      "trinci    233027\n",
      "quari     245013\n",
      "dtype: int64\n"
     ]
    }
   ],
   "source": [
    "# Script that computes the sum of all the columns in 3 CSV files that contain commented lines\n",
    "\n",
    "comment_prefixes = ['# ', '-- ', 'REM ']\n",
    "\n",
    "filename1 = 'first_commented_data.csv'\n",
    "print('Load data from', filename1)\n",
    "with open(filename1, 'rt') as f:\n",
    "    valid_lines = []\n",
    "    for line in f:\n",
    "        for prefix in comment_prefixes:\n",
    "            if line.startswith(prefix):\n",
    "                break\n",
    "        else:\n",
    "            data = [int(x) for x in line.split(',')]\n",
    "            valid_lines.append(data)\n",
    "\n",
    "data1 = pd.DataFrame(valid_lines, columns=['unci', 'dunci', 'trinci', 'quari'])\n",
    "\n",
    "\n",
    "filename2 = 'second_commented_data.csv'\n",
    "print('Load data from', filename2)\n",
    "with open(filename2, 'rt') as f:\n",
    "    valid_lines = []\n",
    "    for line in f:\n",
    "        for prefix in comment_prefixes:\n",
    "            if line.startswith(prefix):\n",
    "                break\n",
    "        else:\n",
    "            data = [int(x) for x in line.split(',')]\n",
    "            valid_lines.append(data)\n",
    "\n",
    "data2 = pd.DataFrame(valid_lines, columns=['unci', 'dunci', 'trinci', 'quari'])\n",
    "\n",
    "\n",
    "filename3 = 'third_commented_data.csv'\n",
    "print('Load data from', filename3)\n",
    "with open(filename3, 'rt') as f:\n",
    "    valid_lines = []\n",
    "    for line in f:\n",
    "        for prefix in comment_prefixes:\n",
    "            if line.startswith(prefix):\n",
    "                break\n",
    "        else:\n",
    "            data = [int(x) for x in line.split(',')]\n",
    "            valid_lines.append(data)\n",
    "\n",
    "data3 = pd.DataFrame(valid_lines, columns=['unci', 'dunci', 'trinci', 'quari'])\n",
    "\n",
    "print(data1.sum() + data2.sum() + data3.sum())"
   ]
  },
  {
   "cell_type": "markdown",
   "metadata": {},
   "source": [
    "Solution 1"
   ]
  },
  {
   "cell_type": "code",
   "execution_count": 138,
   "metadata": {
    "ExecuteTime": {
     "end_time": "2018-07-27T06:52:58.446374Z",
     "start_time": "2018-07-27T08:52:58.429084+02:00"
    },
    "collapsed": false
   },
   "outputs": [
    {
     "name": "stdout",
     "output_type": "stream",
     "text": [
      "Load data from first_commented_data.csv\n",
      "Load data from second_commented_data.csv\n",
      "Load data from third_commented_data.csv\n",
      "unci      254425\n",
      "dunci     244622\n",
      "trinci    233027\n",
      "quari     245013\n",
      "dtype: int64\n"
     ]
    }
   ],
   "source": [
    "CSV_COMMENT_PREFIXES = ['# ', '-- ', 'REM ']\n",
    "\n",
    "def lines_without_comments(filename, comment_prefixes=CSV_COMMENT_PREFIXES):\n",
    "    with open(filename, 'rt') as f:\n",
    "        valid_lines = []\n",
    "        for line in f:\n",
    "            for prefix in comment_prefixes:\n",
    "                if line.startswith(prefix):\n",
    "                    break\n",
    "            else:\n",
    "                data = [int(x) for x in line.split(',')]\n",
    "                yield data\n",
    "\n",
    "filenames = ['first_commented_data.csv', 'second_commented_data.csv', 'third_commented_data.csv']\n",
    "data = []\n",
    "for filename in filenames:\n",
    "    print('Load data from', filename)\n",
    "    data_chunk = pd.DataFrame(\n",
    "        lines_without_comments(filename),\n",
    "        columns=['unci', 'dunci', 'trinci', 'quari'],\n",
    "    )\n",
    "    data.append(data_chunk)\n",
    "\n",
    "data = pd.concat(data)\n",
    "print(data.sum())"
   ]
  },
  {
   "cell_type": "markdown",
   "metadata": {},
   "source": [
    "Solution 2"
   ]
  },
  {
   "cell_type": "code",
   "execution_count": 137,
   "metadata": {
    "ExecuteTime": {
     "end_time": "2018-07-27T06:52:05.145445Z",
     "start_time": "2018-07-27T08:52:05.129880+02:00"
    },
    "collapsed": false
   },
   "outputs": [
    {
     "name": "stdout",
     "output_type": "stream",
     "text": [
      "unci      254425\n",
      "dunci     244622\n",
      "trinci    233027\n",
      "quari     245013\n",
      "dtype: int64\n"
     ]
    }
   ],
   "source": [
    "CSV_COMMENT_PREFIXES = ['# ', '-- ', 'REM ']\n",
    "\n",
    "\n",
    "def readfiles(filenames):\n",
    "    \"\"\" Generator that yields all lines from multiple files. \"\"\"\n",
    "    for filename in filenames:\n",
    "        for line in open(filename, 'rt'):\n",
    "            yield line\n",
    "\n",
    "\n",
    "def filter_comments(lines, comment_prefixes=CSV_COMMENT_PREFIXES):\n",
    "    \"\"\" Generator that yields all lines that do not start with comment prefixes. \"\"\"\n",
    "    for line in lines:\n",
    "        for prefix in comment_prefixes:\n",
    "            if line.startswith(prefix):\n",
    "                break\n",
    "        else:\n",
    "            yield line\n",
    "\n",
    "\n",
    "def parse_data(lines):\n",
    "    \"\"\" Generator that parses each line as a list of integers. \"\"\"\n",
    "    for line in lines:\n",
    "        yield [int(x) for x in line.split(',')]\n",
    "\n",
    "        \n",
    "filenames = ['first_commented_data.csv', 'second_commented_data.csv', 'third_commented_data.csv']\n",
    "data = pd.DataFrame(\n",
    "    parse_data(filter_comments(readfiles(filenames))),\n",
    "    columns=['unci', 'dunci', 'trinci', 'quari'],\n",
    ")\n",
    "print(data.sum())"
   ]
  },
  {
   "cell_type": "markdown",
   "metadata": {},
   "source": [
    "## itertools\n",
    "\n",
    "A tour of the content of `itertools`"
   ]
  },
  {
   "cell_type": "markdown",
   "metadata": {},
   "source": [
    "A typical case that shows up in my code: going through combinations of experimental conditions."
   ]
  },
  {
   "cell_type": "code",
   "execution_count": 148,
   "metadata": {
    "ExecuteTime": {
     "end_time": "2018-07-27T07:36:20.255688Z",
     "start_time": "2018-07-27T09:36:20.249207+02:00"
    },
    "collapsed": false
   },
   "outputs": [
    {
     "name": "stdout",
     "output_type": "stream",
     "text": [
      "Run experiment #0\n",
      "Concentration 1\n",
      "Time 60\n",
      "Applications 1\n",
      "\n",
      "Run experiment #1\n",
      "Concentration 1\n",
      "Time 60\n",
      "Applications 2\n",
      "\n",
      "Run experiment #2\n",
      "Concentration 1\n",
      "Time 60\n",
      "Applications 3\n",
      "\n",
      "Run experiment #3\n",
      "Concentration 1\n",
      "Time 120\n",
      "Applications 1\n",
      "\n",
      "Run experiment #4\n",
      "Concentration 1\n",
      "Time 120\n",
      "Applications 2\n",
      "\n",
      "Run experiment #5\n",
      "Concentration 1\n",
      "Time 120\n",
      "Applications 3\n",
      "\n",
      "Run experiment #6\n",
      "Concentration 1\n",
      "Time 180\n",
      "Applications 1\n",
      "\n",
      "Run experiment #7\n",
      "Concentration 1\n",
      "Time 180\n",
      "Applications 2\n",
      "\n",
      "Run experiment #8\n",
      "Concentration 1\n",
      "Time 180\n",
      "Applications 3\n",
      "\n",
      "Run experiment #9\n",
      "Concentration 10\n",
      "Time 60\n",
      "Applications 1\n",
      "\n",
      "Run experiment #10\n",
      "Concentration 10\n",
      "Time 60\n",
      "Applications 2\n",
      "\n",
      "Run experiment #11\n",
      "Concentration 10\n",
      "Time 60\n",
      "Applications 3\n",
      "\n",
      "Run experiment #12\n",
      "Concentration 10\n",
      "Time 120\n",
      "Applications 1\n",
      "\n",
      "Run experiment #13\n",
      "Concentration 10\n",
      "Time 120\n",
      "Applications 2\n",
      "\n",
      "Run experiment #14\n",
      "Concentration 10\n",
      "Time 120\n",
      "Applications 3\n",
      "\n",
      "Run experiment #15\n",
      "Concentration 10\n",
      "Time 180\n",
      "Applications 1\n",
      "\n",
      "Run experiment #16\n",
      "Concentration 10\n",
      "Time 180\n",
      "Applications 2\n",
      "\n",
      "Run experiment #17\n",
      "Concentration 10\n",
      "Time 180\n",
      "Applications 3\n",
      "\n",
      "Run experiment #18\n",
      "Concentration 100\n",
      "Time 60\n",
      "Applications 1\n",
      "\n",
      "Run experiment #19\n",
      "Concentration 100\n",
      "Time 60\n",
      "Applications 2\n",
      "\n",
      "Run experiment #20\n",
      "Concentration 100\n",
      "Time 60\n",
      "Applications 3\n",
      "\n",
      "Run experiment #21\n",
      "Concentration 100\n",
      "Time 120\n",
      "Applications 1\n",
      "\n",
      "Run experiment #22\n",
      "Concentration 100\n",
      "Time 120\n",
      "Applications 2\n",
      "\n",
      "Run experiment #23\n",
      "Concentration 100\n",
      "Time 120\n",
      "Applications 3\n",
      "\n",
      "Run experiment #24\n",
      "Concentration 100\n",
      "Time 180\n",
      "Applications 1\n",
      "\n",
      "Run experiment #25\n",
      "Concentration 100\n",
      "Time 180\n",
      "Applications 2\n",
      "\n",
      "Run experiment #26\n",
      "Concentration 100\n",
      "Time 180\n",
      "Applications 3\n",
      "\n"
     ]
    }
   ],
   "source": [
    "from itertools import product\n",
    "\n",
    "concentrations = [1, 10, 100]\n",
    "times = [60, 120, 180]\n",
    "applications = [1, 2, 3]\n",
    "for idx, (concentration, time, application) in enumerate(product(concentrations, times, applications)):\n",
    "    print('Run experiment #{}'.format(idx))\n",
    "    print('Concentration', concentration)\n",
    "    print('Time', time)\n",
    "    print('Applications', application)\n",
    "    print()"
   ]
  },
  {
   "cell_type": "markdown",
   "metadata": {},
   "source": [
    "Another common case is when one needs to compute statistics on all pairs of variables"
   ]
  },
  {
   "cell_type": "code",
   "execution_count": 150,
   "metadata": {
    "ExecuteTime": {
     "end_time": "2018-07-27T07:42:49.431062Z",
     "start_time": "2018-07-27T09:42:49.419697+02:00"
    },
    "collapsed": false
   },
   "outputs": [
    {
     "data": {
      "text/html": [
       "<div>\n",
       "<style scoped>\n",
       "    .dataframe tbody tr th:only-of-type {\n",
       "        vertical-align: middle;\n",
       "    }\n",
       "\n",
       "    .dataframe tbody tr th {\n",
       "        vertical-align: top;\n",
       "    }\n",
       "\n",
       "    .dataframe thead th {\n",
       "        text-align: right;\n",
       "    }\n",
       "</style>\n",
       "<table border=\"1\" class=\"dataframe\">\n",
       "  <thead>\n",
       "    <tr style=\"text-align: right;\">\n",
       "      <th></th>\n",
       "      <th>unci</th>\n",
       "      <th>dunci</th>\n",
       "      <th>trinci</th>\n",
       "    </tr>\n",
       "  </thead>\n",
       "  <tbody>\n",
       "    <tr>\n",
       "      <th>0</th>\n",
       "      <td>1</td>\n",
       "      <td>0.10</td>\n",
       "      <td>32</td>\n",
       "    </tr>\n",
       "    <tr>\n",
       "      <th>1</th>\n",
       "      <td>4</td>\n",
       "      <td>0.30</td>\n",
       "      <td>11</td>\n",
       "    </tr>\n",
       "    <tr>\n",
       "      <th>2</th>\n",
       "      <td>8</td>\n",
       "      <td>0.90</td>\n",
       "      <td>1</td>\n",
       "    </tr>\n",
       "    <tr>\n",
       "      <th>3</th>\n",
       "      <td>12</td>\n",
       "      <td>0.12</td>\n",
       "      <td>-4</td>\n",
       "    </tr>\n",
       "  </tbody>\n",
       "</table>\n",
       "</div>"
      ],
      "text/plain": [
       "   unci  dunci  trinci\n",
       "0     1   0.10      32\n",
       "1     4   0.30      11\n",
       "2     8   0.90       1\n",
       "3    12   0.12      -4"
      ]
     },
     "execution_count": 150,
     "metadata": {},
     "output_type": "execute_result"
    }
   ],
   "source": [
    "df = pd.DataFrame(\n",
    "    data = [[1, 0.1, 32],\n",
    "            [4, 0.3, 11],\n",
    "            [8, 0.9, 1],\n",
    "            [12, 0.12, -4]],\n",
    "    columns=['unci', 'dunci', 'trinci']\n",
    ")\n",
    "df"
   ]
  },
  {
   "cell_type": "code",
   "execution_count": 151,
   "metadata": {
    "ExecuteTime": {
     "end_time": "2018-07-27T07:44:27.159110Z",
     "start_time": "2018-07-27T09:44:27.152197+02:00"
    },
    "collapsed": false
   },
   "outputs": [
    {
     "name": "stdout",
     "output_type": "stream",
     "text": [
      "unci dunci 9.94\n",
      "unci trinci 36\n",
      "dunci trinci 6.92\n"
     ]
    }
   ],
   "source": [
    "# Without itertools\n",
    "\n",
    "n_cols = df.shape[1]\n",
    "for idx1 in range(n_cols):\n",
    "    for idx2 in range(idx1 + 1, n_cols):\n",
    "        corr = (df.iloc[:, idx1] * df.iloc[:, idx2]).sum()\n",
    "        print(df.columns[idx1], df.columns[idx2], corr)"
   ]
  },
  {
   "cell_type": "code",
   "execution_count": 154,
   "metadata": {
    "ExecuteTime": {
     "end_time": "2018-07-27T07:45:24.540659Z",
     "start_time": "2018-07-27T09:45:24.534820+02:00"
    },
    "collapsed": false
   },
   "outputs": [
    {
     "name": "stdout",
     "output_type": "stream",
     "text": [
      "unci dunci 9.94\n",
      "unci trinci 36\n",
      "dunci trinci 6.92\n"
     ]
    }
   ],
   "source": [
    "# With itertools\n",
    "from itertools import combinations\n",
    "\n",
    "for col1, col2 in combinations(df.columns, 2):\n",
    "    corr = (df.loc[:, col1] * df.loc[:, col2]).sum()\n",
    "    print(col1, col2, corr)"
   ]
  },
  {
   "cell_type": "markdown",
   "metadata": {},
   "source": [
    "### Exercise\n",
    "\n",
    "Write a generator that deals cards at random from a deck of card."
   ]
  },
  {
   "cell_type": "code",
   "execution_count": null,
   "metadata": {
    "collapsed": true
   },
   "outputs": [],
   "source": []
  }
 ],
 "metadata": {
  "hide_input": false,
  "kernelspec": {
   "display_name": "Python [conda env:scratch]",
   "language": "python",
   "name": "conda-env-scratch-py"
  },
  "language_info": {
   "codemirror_mode": {
    "name": "ipython",
    "version": 3
   },
   "file_extension": ".py",
   "mimetype": "text/x-python",
   "name": "python",
   "nbconvert_exporter": "python",
   "pygments_lexer": "ipython3",
   "version": "3.5.2"
  },
  "toc": {
   "nav_menu": {
    "height": "210px",
    "width": "252px"
   },
   "navigate_menu": true,
   "number_sections": true,
   "sideBar": true,
   "threshold": 4,
   "toc_cell": false,
   "toc_position": {
    "height": "953px",
    "left": "0px",
    "right": "1258px",
    "top": "127px",
    "width": "276px"
   },
   "toc_section_display": "block",
   "toc_window_display": true
  }
 },
 "nbformat": 4,
 "nbformat_minor": 2
}

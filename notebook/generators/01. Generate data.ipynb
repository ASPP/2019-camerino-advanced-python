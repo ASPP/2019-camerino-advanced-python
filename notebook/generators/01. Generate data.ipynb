{
 "cells": [
  {
   "cell_type": "markdown",
   "metadata": {},
   "source": [
    "# Generate data for generators section\n",
    "\n",
    "Explain format of the data:\n",
    "\n",
    "`USER_ID,TV_201711_M,TV_201711_A,TV_201711_N,VOD_201711_M,VOD_201711_A,VOD_201711_N`\n"
   ]
  },
  {
   "cell_type": "code",
   "execution_count": 1,
   "metadata": {
    "ExecuteTime": {
     "end_time": "2018-02-16T12:44:31.590967Z",
     "start_time": "2018-02-16T13:44:31.588411+01:00"
    },
    "collapsed": true
   },
   "outputs": [],
   "source": [
    "import numpy as np\n",
    "import pandas as pd"
   ]
  },
  {
   "cell_type": "code",
   "execution_count": 2,
   "metadata": {
    "ExecuteTime": {
     "end_time": "2018-02-16T12:59:22.655284Z",
     "start_time": "2018-02-16T13:59:22.639675+01:00"
    }
   },
   "outputs": [],
   "source": [
    "def generate_data_for_user(user_id, year, month):\n",
    "    tv_minutes = random_state.randint(10, 360) * 30\n",
    "    tv_minutes_part_of_day = random_state.multinomial(tv_minutes, [0.2, 0.3, 0.5])\n",
    "\n",
    "    vod_minutes = random_state.randint(10, 240) * 30\n",
    "    vod_minutes_part_of_day = random_state.multinomial(vod_minutes, [0.2, 0.2, 0.6])\n",
    "\n",
    "    tv_template = 'TV_{year}{month}_{pod}'\n",
    "    vod_template = 'VOD_{year}{month}_{pod}'\n",
    "    columns = (\n",
    "        ['USER_ID'] \n",
    "        + [tv_template.format(year=year, month=month, pod=pod) for pod in ['M', 'A', 'N']]\n",
    "        + [vod_template.format(year=year, month=month, pod=pod) for pod in ['M', 'A', 'N']]\n",
    "    )\n",
    "    data = [user_id, *tv_minutes_part_of_day, *vod_minutes_part_of_day]\n",
    "\n",
    "    user_row = pd.Series(\n",
    "        data=data,\n",
    "        index=columns,\n",
    "    )\n",
    "    return user_row\n",
    "\n",
    "\n",
    "def generate_data_for_month(n_users, year, month):\n",
    "    df = pd.DataFrame([generate_data_for_user(user_id, year, month) for user_id in range(n_users)]).set_index('USER_ID')\n",
    "    return df"
   ]
  },
  {
   "cell_type": "code",
   "execution_count": 3,
   "metadata": {
    "ExecuteTime": {
     "end_time": "2018-02-16T13:00:28.350894Z",
     "start_time": "2018-02-16T14:00:28.254036+01:00"
    }
   },
   "outputs": [],
   "source": [
    "random_state = np.random.RandomState(8349)\n",
    "\n",
    "year = 2017\n",
    "n_users = 100\n",
    "for month in [10, 11, 12]:\n",
    "    df = generate_data_for_month(n_users, year, month)\n",
    "    \n",
    "    filename = 'consumption_{year}{month}.csv'.format(year=year, month=month)\n",
    "    df.to_csv(filename)"
   ]
  },
  {
   "cell_type": "code",
   "execution_count": null,
   "metadata": {
    "collapsed": true
   },
   "outputs": [],
   "source": []
  }
 ],
 "metadata": {
  "hide_input": false,
  "kernelspec": {
   "display_name": "Python 3",
   "language": "python",
   "name": "python3"
  },
  "language_info": {
   "codemirror_mode": {
    "name": "ipython",
    "version": 3
   },
   "file_extension": ".py",
   "mimetype": "text/x-python",
   "name": "python",
   "nbconvert_exporter": "python",
   "pygments_lexer": "ipython3",
   "version": "3.6.2"
  },
  "toc": {
   "nav_menu": {
    "height": "30px",
    "width": "252px"
   },
   "navigate_menu": true,
   "number_sections": true,
   "sideBar": true,
   "threshold": 4,
   "toc_cell": false,
   "toc_section_display": "block",
   "toc_window_display": false
  }
 },
 "nbformat": 4,
 "nbformat_minor": 2
}

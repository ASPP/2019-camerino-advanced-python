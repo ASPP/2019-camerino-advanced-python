{
 "cells": [
  {
   "cell_type": "markdown",
   "metadata": {},
   "source": [
    "# Generate data for generators section\n",
    "\n",
    "Explain format of the data:\n",
    "\n",
    "`USER_ID,TV_201711_M,TV_201711_A,TV_201711_N,VOD_201711_M,VOD_201711_A,VOD_201711_N`\n"
   ]
  },
  {
   "cell_type": "code",
   "execution_count": 2,
   "metadata": {
    "ExecuteTime": {
     "end_time": "2018-07-26T07:44:10.985948Z",
     "start_time": "2018-07-26T09:44:10.269397+02:00"
    },
    "collapsed": true
   },
   "outputs": [],
   "source": [
    "import numpy as np\n",
    "import pandas as pd"
   ]
  },
  {
   "cell_type": "markdown",
   "metadata": {},
   "source": [
    "## TV / VOD consumption"
   ]
  },
  {
   "cell_type": "code",
   "execution_count": 2,
   "metadata": {
    "ExecuteTime": {
     "end_time": "2018-02-16T12:59:22.655284Z",
     "start_time": "2018-02-16T13:59:22.639675+01:00"
    },
    "collapsed": true
   },
   "outputs": [],
   "source": [
    "def generate_data_for_user(user_id, year, month):\n",
    "    tv_minutes = random_state.randint(10, 360) * 30\n",
    "    tv_minutes_part_of_day = random_state.multinomial(tv_minutes, [0.2, 0.3, 0.5])\n",
    "\n",
    "    vod_minutes = random_state.randint(10, 240) * 30\n",
    "    vod_minutes_part_of_day = random_state.multinomial(vod_minutes, [0.2, 0.2, 0.6])\n",
    "\n",
    "    tv_template = 'TV_{year}{month}_{pod}'\n",
    "    vod_template = 'VOD_{year}{month}_{pod}'\n",
    "    columns = (\n",
    "        ['USER_ID'] \n",
    "        + [tv_template.format(year=year, month=month, pod=pod) for pod in ['M', 'A', 'N']]\n",
    "        + [vod_template.format(year=year, month=month, pod=pod) for pod in ['M', 'A', 'N']]\n",
    "    )\n",
    "    data = [user_id, *tv_minutes_part_of_day, *vod_minutes_part_of_day]\n",
    "\n",
    "    user_row = pd.Series(\n",
    "        data=data,\n",
    "        index=columns,\n",
    "    )\n",
    "    return user_row\n",
    "\n",
    "\n",
    "def generate_data_for_month(n_users, year, month):\n",
    "    df = pd.DataFrame([generate_data_for_user(user_id, year, month) for user_id in range(n_users)]).set_index('USER_ID')\n",
    "    return df"
   ]
  },
  {
   "cell_type": "code",
   "execution_count": 3,
   "metadata": {
    "ExecuteTime": {
     "end_time": "2018-02-16T13:00:28.350894Z",
     "start_time": "2018-02-16T14:00:28.254036+01:00"
    },
    "collapsed": true
   },
   "outputs": [],
   "source": [
    "random_state = np.random.RandomState(8349)\n",
    "\n",
    "year = 2017\n",
    "n_users = 100\n",
    "for month in [10, 11, 12]:\n",
    "    df = generate_data_for_month(n_users, year, month)\n",
    "    \n",
    "    filename = 'consumption_{year}{month}.csv'.format(year=year, month=month)\n",
    "    df.to_csv(filename)"
   ]
  },
  {
   "cell_type": "markdown",
   "metadata": {
    "collapsed": true
   },
   "source": [
    "## CSV file with comments"
   ]
  },
  {
   "cell_type": "code",
   "execution_count": 19,
   "metadata": {
    "ExecuteTime": {
     "end_time": "2018-07-26T07:51:23.066115Z",
     "start_time": "2018-07-26T09:51:23.057889+02:00"
    },
    "collapsed": false
   },
   "outputs": [],
   "source": [
    "comment_prefixes = ['#', '--', 'REM']\n",
    "comments = ['Ignore this line', 'Skip me', 'Do not bother']\n",
    "\n",
    "def data_or_comment_generator(n_rows, n_cols, fraction_comments=0.2, random_state=np.random):\n",
    "    for i in range(n_rows):\n",
    "        if random_state.uniform() < fraction_comments:\n",
    "            # Generate comment line\n",
    "            prefix = random_state.choice(comment_prefixes)\n",
    "            comment = random_state.choice(comments)\n",
    "            yield prefix + ' ' + comment + '\\n'\n",
    "        else:\n",
    "            # Generate data line\n",
    "            data = random_state.randint(0, 1000, size=(n_cols,)).astype(str)\n",
    "            row = ','.join(data)\n",
    "            yield row + '\\n'\n"
   ]
  },
  {
   "cell_type": "code",
   "execution_count": 24,
   "metadata": {
    "ExecuteTime": {
     "end_time": "2018-07-26T15:33:04.308664Z",
     "start_time": "2018-07-26T17:33:04.290646+02:00"
    },
    "collapsed": true
   },
   "outputs": [],
   "source": [
    "random_state = np.random.RandomState(69699)\n",
    "\n",
    "filenames = ['first_commented_data.csv', 'second_commented_data.csv', 'third_commented_data.csv']\n",
    "for filename in filenames:\n",
    "    with open(filename, 'w') as f:\n",
    "        f.writelines(\n",
    "            data_or_comment_generator(\n",
    "                n_rows=200,\n",
    "                n_cols=4, \n",
    "                fraction_comments=0.2, \n",
    "                random_state=random_state\n",
    "            )\n",
    "        )"
   ]
  },
  {
   "cell_type": "code",
   "execution_count": null,
   "metadata": {
    "collapsed": true
   },
   "outputs": [],
   "source": []
  }
 ],
 "metadata": {
  "hide_input": false,
  "kernelspec": {
   "display_name": "Python [default]",
   "language": "python",
   "name": "python3"
  },
  "language_info": {
   "codemirror_mode": {
    "name": "ipython",
    "version": 3
   },
   "file_extension": ".py",
   "mimetype": "text/x-python",
   "name": "python",
   "nbconvert_exporter": "python",
   "pygments_lexer": "ipython3",
   "version": "3.5.2"
  },
  "toc": {
   "nav_menu": {
    "height": "30px",
    "width": "252px"
   },
   "navigate_menu": true,
   "number_sections": true,
   "sideBar": true,
   "threshold": 4,
   "toc_cell": false,
   "toc_section_display": "block",
   "toc_window_display": false
  }
 },
 "nbformat": 4,
 "nbformat_minor": 2
}

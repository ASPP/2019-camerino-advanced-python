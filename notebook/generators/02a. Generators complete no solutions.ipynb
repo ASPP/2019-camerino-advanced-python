{
 "cells": [
  {
   "cell_type": "markdown",
   "metadata": {},
   "source": [
    "# Generators"
   ]
  },
  {
   "cell_type": "code",
   "execution_count": null,
   "metadata": {
    "ExecuteTime": {
     "end_time": "2019-08-11T15:17:35.618336Z",
     "start_time": "2019-08-11T17:17:34.502976+02:00"
    },
    "collapsed": false
   },
   "outputs": [],
   "source": [
    "# Before starting, we run the \"Generate data\" notebook to make sure we have everything we need.\n",
    "%run \"./01. Generate data.ipynb\""
   ]
  },
  {
   "cell_type": "markdown",
   "metadata": {},
   "source": [
    "## `for` loops in Python are very flexible"
   ]
  },
  {
   "cell_type": "markdown",
   "metadata": {},
   "source": [
    "Classic loop"
   ]
  },
  {
   "cell_type": "code",
   "execution_count": null,
   "metadata": {
    "ExecuteTime": {
     "end_time": "2019-08-11T15:17:36.657503Z",
     "start_time": "2019-08-11T17:17:36.654495+02:00"
    },
    "collapsed": false
   },
   "outputs": [],
   "source": [
    "for i in range(4):\n",
    "    print(i)"
   ]
  },
  {
   "cell_type": "markdown",
   "metadata": {},
   "source": [
    "Loop over any list"
   ]
  },
  {
   "cell_type": "code",
   "execution_count": null,
   "metadata": {
    "ExecuteTime": {
     "end_time": "2019-08-11T15:17:37.640835Z",
     "start_time": "2019-08-11T17:17:37.638006+02:00"
    },
    "collapsed": false
   },
   "outputs": [],
   "source": [
    "for word in ['Cheese', 'Sausage', 'Bread']:\n",
    "    print(word)"
   ]
  },
  {
   "cell_type": "markdown",
   "metadata": {},
   "source": [
    "Loop over a dictionary"
   ]
  },
  {
   "cell_type": "code",
   "execution_count": null,
   "metadata": {
    "ExecuteTime": {
     "end_time": "2019-08-11T15:17:39.594068Z",
     "start_time": "2019-08-11T17:17:39.589613+02:00"
    },
    "collapsed": false
   },
   "outputs": [],
   "source": [
    "italian_to_english = {\n",
    "    'ciao': 'hi',\n",
    "    'sottaceti': 'pickles',\n",
    "    'pizza': 'pizza',\n",
    "}\n",
    "\n",
    "for italian, english in italian_to_english.items():\n",
    "    print(italian, '->', english)"
   ]
  },
  {
   "cell_type": "markdown",
   "metadata": {},
   "source": [
    "Loop over a text file"
   ]
  },
  {
   "cell_type": "code",
   "execution_count": null,
   "metadata": {
    "ExecuteTime": {
     "end_time": "2019-08-11T15:17:41.690445Z",
     "start_time": "2019-08-11T17:17:41.685565+02:00"
    },
    "collapsed": false,
    "scrolled": true
   },
   "outputs": [],
   "source": [
    "with open('consumption_201710.csv') as f:\n",
    "    for line in f:\n",
    "        print(line, end='')"
   ]
  },
  {
   "cell_type": "markdown",
   "metadata": {},
   "source": [
    "Libraries often define their own \"iterators\""
   ]
  },
  {
   "cell_type": "code",
   "execution_count": null,
   "metadata": {
    "ExecuteTime": {
     "end_time": "2019-08-11T15:17:43.847071Z",
     "start_time": "2019-08-11T17:17:43.821917+02:00"
    },
    "collapsed": false
   },
   "outputs": [],
   "source": [
    "import pandas as pd\n",
    "\n",
    "world_pop = pd.DataFrame(\n",
    "    columns=['Country', '2000', '2015', '2030'], \n",
    "    data=[['China', 1270, 1376, 1416],\n",
    "          ['India', 1053, 1311, 1528],\n",
    "          ['United States', 283, 322, 356],\n",
    "          ['Indonesia', 212, 258, 295]],\n",
    ")\n",
    "world_pop"
   ]
  },
  {
   "cell_type": "code",
   "execution_count": null,
   "metadata": {
    "ExecuteTime": {
     "end_time": "2019-08-11T15:17:44.282598Z",
     "start_time": "2019-08-11T17:17:44.278964+02:00"
    },
    "collapsed": false
   },
   "outputs": [],
   "source": [
    "for column_name in world_pop:\n",
    "    print(column_name)"
   ]
  },
  {
   "cell_type": "code",
   "execution_count": null,
   "metadata": {
    "ExecuteTime": {
     "end_time": "2019-08-11T15:17:44.973071Z",
     "start_time": "2019-08-11T17:17:44.965166+02:00"
    },
    "collapsed": false
   },
   "outputs": [],
   "source": [
    "for idx, row in world_pop.iterrows():\n",
    "    print('{0:-^7}'.format(idx))\n",
    "    print(row)"
   ]
  },
  {
   "cell_type": "markdown",
   "metadata": {},
   "source": [
    "**IMPORTANT CONCEPT: these iterators do not create a list in memory over which `for` iterates!**"
   ]
  },
  {
   "cell_type": "markdown",
   "metadata": {},
   "source": [
    "## Defining your own for-loop thingy: generators\n",
    "\n",
    "\"Generators\" are like functions, but for loops."
   ]
  },
  {
   "cell_type": "markdown",
   "metadata": {},
   "source": [
    "### First contact\n",
    "\n",
    "iterate over the first `n` odd numbers"
   ]
  },
  {
   "cell_type": "code",
   "execution_count": null,
   "metadata": {
    "ExecuteTime": {
     "end_time": "2019-08-11T15:17:47.921408Z",
     "start_time": "2019-08-11T17:17:47.917150+02:00"
    },
    "collapsed": false,
    "scrolled": true
   },
   "outputs": [],
   "source": [
    "def odd_numbers(n):\n",
    "    \"\"\" Generator for the first `n` odd numbers. \"\"\"\n",
    "    for i in range(n):\n",
    "        # Use `yield` instead of `return`: execution will start again from here\n",
    "        yield i * 2 + 1\n",
    "\n",
    "for i in odd_numbers(5):\n",
    "    print(i)"
   ]
  },
  {
   "cell_type": "markdown",
   "metadata": {},
   "source": [
    "Second example: first `n` numbers not divisible by x"
   ]
  },
  {
   "cell_type": "code",
   "execution_count": null,
   "metadata": {
    "ExecuteTime": {
     "end_time": "2019-08-11T15:17:49.616409Z",
     "start_time": "2019-08-11T17:17:49.612109+02:00"
    },
    "collapsed": true
   },
   "outputs": [],
   "source": [
    "def not_divisibles(n, divisor):\n",
    "    \"\"\" Generator for the first `n` numbers not divisible by x. \"\"\"\n",
    "    current = 0\n",
    "    while n > 0:\n",
    "        if (current % divisor != 0):\n",
    "            yield current\n",
    "            n -= 1\n",
    "        current += 1"
   ]
  },
  {
   "cell_type": "code",
   "execution_count": null,
   "metadata": {
    "ExecuteTime": {
     "end_time": "2019-08-11T15:17:49.766665Z",
     "start_time": "2019-08-11T17:17:49.763961+02:00"
    },
    "collapsed": false,
    "scrolled": true
   },
   "outputs": [],
   "source": [
    "for x in not_divisibles(7, 3):\n",
    "    print(x)"
   ]
  },
  {
   "cell_type": "markdown",
   "metadata": {},
   "source": [
    "Generated content does not need to be deterministic, or finite! It could even be generated on the fly."
   ]
  },
  {
   "cell_type": "code",
   "execution_count": null,
   "metadata": {
    "ExecuteTime": {
     "end_time": "2019-08-11T15:17:50.506348Z",
     "start_time": "2019-08-11T17:17:50.501005+02:00"
    },
    "collapsed": false
   },
   "outputs": [],
   "source": [
    "import numpy as np\n",
    "\n",
    "def generate_n_random_numbers(n):\n",
    "    for i in range(n):\n",
    "        yield np.random.uniform()\n",
    "\n",
    "for x in generate_n_random_numbers(5):\n",
    "    print(x)"
   ]
  },
  {
   "cell_type": "markdown",
   "metadata": {},
   "source": [
    "### Hands-on: Your first generator\n",
    "\n",
    "Write a generator that generates even numbers between 0 and `n`.\n",
    "\n",
    "Expected:\n",
    "```\n",
    "for i in even(7):\n",
    "    print(i)\n",
    "```\n",
    "\n",
    "outputs\n",
    "\n",
    "```\n",
    "0\n",
    "2\n",
    "4\n",
    "6\n",
    "```"
   ]
  },
  {
   "cell_type": "code",
   "execution_count": null,
   "metadata": {
    "ExecuteTime": {
     "end_time": "2019-08-11T16:06:23.872750Z",
     "start_time": "2019-08-11T18:06:23.869439+02:00"
    },
    "collapsed": false
   },
   "outputs": [],
   "source": [
    "# Your code here"
   ]
  },
  {
   "cell_type": "markdown",
   "metadata": {},
   "source": [
    "### Hands-on: Recognize the smell of generators\n",
    "\n",
    "Submit a PR for Issue #1 on GitHub."
   ]
  },
  {
   "cell_type": "markdown",
   "metadata": {},
   "source": [
    "### Hands-on: A common generators pattern\n",
    "\n",
    "Submit a PR for Issue #2 on GitHub."
   ]
  },
  {
   "cell_type": "markdown",
   "metadata": {},
   "source": [
    "## Generators can be chained"
   ]
  },
  {
   "cell_type": "code",
   "execution_count": null,
   "metadata": {
    "ExecuteTime": {
     "end_time": "2019-08-11T15:35:56.025153Z",
     "start_time": "2019-08-11T17:35:56.013803+02:00"
    },
    "collapsed": false
   },
   "outputs": [],
   "source": [
    "def readfiles(filenames):\n",
    "    \"\"\" Generator that yields all lines from multiple files. \"\"\"\n",
    "    for filename in filenames:\n",
    "        for line in open(filename):\n",
    "            yield line\n",
    "\n",
    "\n",
    "def filter_pattern(lines, pattern):\n",
    "    \"\"\" Generator that yields all lines that contain a certain string. \"\"\"\n",
    "    for line in lines:\n",
    "        if pattern in line:\n",
    "            yield line\n",
    "\n",
    "\n",
    "def pprint_with_line_numbers(lines):\n",
    "    \"\"\" Format each line in a pretty string. \"\"\"\n",
    "    for idx, line in enumerate(lines):\n",
    "        yield '{} - \"{}\"'.format(idx, line.strip())\n",
    "\n",
    "\n",
    "filenames = ['first_commented_data.csv', 'second_commented_data.csv', 'third_commented_data.csv']\n",
    "\n",
    "for line in pprint_with_line_numbers(filter_pattern(readfiles(filenames), pattern='REM')):\n",
    "    print(line)\n"
   ]
  },
  {
   "cell_type": "markdown",
   "metadata": {},
   "source": [
    "## Real-life example: ETL workflow for PayTV data\n",
    "\n",
    "Switch to the other notebook"
   ]
  },
  {
   "cell_type": "markdown",
   "metadata": {},
   "source": [
    "### Hands-on: Sum of CSV columns, get rid of the smell!\n",
    "\n",
    "Submit a PR for Issue #3 on GitHub."
   ]
  },
  {
   "cell_type": "markdown",
   "metadata": {},
   "source": [
    "## itertools (time permitting)\n",
    "\n",
    "A tour of the content of `itertools`.\n",
    "\n",
    "https://docs.python.org/3.6/library/itertools.html\n"
   ]
  },
  {
   "cell_type": "markdown",
   "metadata": {},
   "source": [
    "A typical case that shows up in my code: going through combinations of experimental conditions."
   ]
  },
  {
   "cell_type": "code",
   "execution_count": null,
   "metadata": {
    "ExecuteTime": {
     "end_time": "2019-08-11T15:47:28.270860Z",
     "start_time": "2019-08-11T17:47:28.263476+02:00"
    },
    "collapsed": false
   },
   "outputs": [],
   "source": [
    "from itertools import product\n",
    "\n",
    "concentrations = [1, 10, 100]\n",
    "times = [60, 120, 180]\n",
    "applications = [1, 2, 3]\n",
    "\n",
    "for idx, (concentration, time, application) in enumerate(product(concentrations, times, applications)):\n",
    "    print('Run experiment #{}'.format(idx))\n",
    "    print('Concentration', concentration)\n",
    "    print('Time', time)\n",
    "    print('Applications', application)\n",
    "    print()"
   ]
  },
  {
   "cell_type": "markdown",
   "metadata": {},
   "source": [
    "Another common case is when one needs to compute statistics on all pairs of variables"
   ]
  },
  {
   "cell_type": "code",
   "execution_count": null,
   "metadata": {
    "ExecuteTime": {
     "end_time": "2019-08-11T15:47:34.937833Z",
     "start_time": "2019-08-11T17:47:34.927251+02:00"
    },
    "collapsed": false
   },
   "outputs": [],
   "source": [
    "df = pd.DataFrame(\n",
    "    data = [[1, 0.1, 32],\n",
    "            [4, 0.3, 11],\n",
    "            [8, 0.9, 1],\n",
    "            [12, 0.12, -4]],\n",
    "    columns=['unci', 'dunci', 'trinci']\n",
    ")\n",
    "df"
   ]
  },
  {
   "cell_type": "code",
   "execution_count": null,
   "metadata": {
    "ExecuteTime": {
     "end_time": "2019-08-11T15:47:39.509533Z",
     "start_time": "2019-08-11T17:47:39.502250+02:00"
    },
    "collapsed": false
   },
   "outputs": [],
   "source": [
    "# Without itertools\n",
    "\n",
    "n_cols = df.shape[1]\n",
    "for idx1 in range(n_cols):\n",
    "    for idx2 in range(idx1 + 1, n_cols):\n",
    "        corr = (df.iloc[:, idx1] * df.iloc[:, idx2]).sum()\n",
    "        print(df.columns[idx1], df.columns[idx2], corr)"
   ]
  },
  {
   "cell_type": "code",
   "execution_count": null,
   "metadata": {
    "ExecuteTime": {
     "end_time": "2019-08-11T15:47:43.924026Z",
     "start_time": "2019-08-11T17:47:43.917947+02:00"
    },
    "collapsed": false,
    "scrolled": true
   },
   "outputs": [],
   "source": [
    "# With itertools\n",
    "from itertools import combinations\n",
    "\n",
    "for col1, col2 in combinations(df.columns, 2):\n",
    "    corr = (df.loc[:, col1] * df.loc[:, col2]).sum()\n",
    "    print(col1, col2, corr)"
   ]
  },
  {
   "cell_type": "markdown",
   "metadata": {},
   "source": [
    "### Hands-on\n",
    "\n",
    "Submit a PR for Issue #5 on GitHub.\n"
   ]
  },
  {
   "cell_type": "code",
   "execution_count": null,
   "metadata": {
    "collapsed": true
   },
   "outputs": [],
   "source": []
  }
 ],
 "metadata": {
  "hide_input": false,
  "kernelspec": {
   "display_name": "Python [conda env:scratch]",
   "language": "python",
   "name": "conda-env-scratch-py"
  },
  "language_info": {
   "codemirror_mode": {
    "name": "ipython",
    "version": 3
   },
   "file_extension": ".py",
   "mimetype": "text/x-python",
   "name": "python",
   "nbconvert_exporter": "python",
   "pygments_lexer": "ipython3",
   "version": "3.5.2"
  },
  "toc": {
   "nav_menu": {
    "height": "225px",
    "width": "252px"
   },
   "navigate_menu": true,
   "number_sections": true,
   "sideBar": true,
   "threshold": 4,
   "toc_cell": false,
   "toc_position": {
    "height": "953px",
    "left": "0px",
    "right": "1258px",
    "top": "127px",
    "width": "276px"
   },
   "toc_section_display": "block",
   "toc_window_display": false
  }
 },
 "nbformat": 4,
 "nbformat_minor": 2
}

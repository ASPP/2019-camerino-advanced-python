{
 "cells": [
  {
   "cell_type": "markdown",
   "metadata": {},
   "source": [
    "# Context managers"
   ]
  },
  {
   "cell_type": "markdown",
   "metadata": {},
   "source": [
    "## The sad story of a neuroscientist and her electron microscope\n",
    "\n",
    "Let's pretend we got an night slot to use a powerful scanning electron microscope SEM, and we want to use it to scan a brain sample.\n",
    "\n",
    "We want to write a Python script to run during that slot that performs the scan automatically using the microscope API (so we can sleep instead of being at the lab)."
   ]
  },
  {
   "cell_type": "markdown",
   "metadata": {},
   "source": [
    "First, we import what we need from the API:"
   ]
  },
  {
   "cell_type": "code",
   "execution_count": null,
   "metadata": {
    "ExecuteTime": {
     "end_time": "2018-08-26T10:49:03.830911Z",
     "start_time": "2018-08-26T12:49:03.690985+02:00"
    },
    "collapsed": false
   },
   "outputs": [],
   "source": [
    "from microscope import (\n",
    "    MicroscopeState,  # Object that holds the current state of the microscope\n",
    "\n",
    "    connect_to_microscope,   # Connect to microscope and get a state object\n",
    "    release_microscope,\n",
    "\n",
    "    make_void,  # Make void inside the microscope \n",
    "    release_void,\n",
    "    \n",
    "    insert_sample,  # Insert sample for scanning\n",
    "    remove_sample,\n",
    "    \n",
    "    calibrate,  # Calibrate microscope\n",
    "    scan_sample,  # What it says\n",
    ")"
   ]
  },
  {
   "cell_type": "markdown",
   "metadata": {},
   "source": [
    "This is the script that we came up with:"
   ]
  },
  {
   "cell_type": "code",
   "execution_count": null,
   "metadata": {
    "ExecuteTime": {
     "end_time": "2018-08-26T10:49:04.200667Z",
     "start_time": "2018-08-26T12:49:04.101259+02:00"
    },
    "collapsed": false
   },
   "outputs": [],
   "source": [
    "# To be run at 2AM using 'cron'\n",
    "microscope_state = connect_to_microscope()\n",
    "make_void(microscope_state)\n",
    "calibration_image = calibrate(microscope_state)\n",
    "sample_image = scan_sample(microscope_state)\n",
    "release_void(microscope_state)\n",
    "release_microscope(microscope_state)"
   ]
  },
  {
   "cell_type": "markdown",
   "metadata": {},
   "source": [
    "Doh! We forgot to insert the brain sample.\n",
    "\n",
    "That's horrible:\n",
    "\n",
    "1) We still don't have the data\n",
    "\n",
    "2) The void was not released and the void pump overheated over a few hours. The SEM is going to be offline for a couple of days until it's fixed :-("
   ]
  },
  {
   "cell_type": "markdown",
   "metadata": {},
   "source": [
    "We're not easily discouraged so we decide to fix the script:"
   ]
  },
  {
   "cell_type": "code",
   "execution_count": null,
   "metadata": {
    "ExecuteTime": {
     "end_time": "2018-08-26T11:01:06.031738Z",
     "start_time": "2018-08-26T13:01:06.026404+02:00"
    },
    "collapsed": false
   },
   "outputs": [],
   "source": [
    "# The script, complete\n",
    "microscope_state = connect_to_microscope()\n",
    "make_void(microscope_state)\n",
    "\n",
    "insert_sample(microscope_state)\n",
    "sample_image = scan_sample(microscope_state)\n",
    "remove_sample(microscope_state)\n",
    "\n",
    "release_void(microscope_state)\n",
    "release_microscope(microscope_state)"
   ]
  },
  {
   "cell_type": "markdown",
   "metadata": {},
   "source": [
    "Still, if anything goes wrong 1) the void pump might continue running or 2) the microscope connection might not be released, forcing some collagues to give up their slots.\n",
    "\n",
    "What should we do to make sure that the microscope is always left in a decent state?"
   ]
  },
  {
   "cell_type": "code",
   "execution_count": null,
   "metadata": {
    "ExecuteTime": {
     "end_time": "2018-08-26T11:04:37.315453Z",
     "start_time": "2018-08-26T13:04:37.308159+02:00"
    },
    "collapsed": false
   },
   "outputs": [],
   "source": [
    "# The script, complete and safe\n",
    "microscope_state = connect_to_microscope()\n",
    "\n",
    "make_void(microscope_state)\n",
    "try:\n",
    "    insert_sample(microscope_state)\n",
    "    try:\n",
    "        sample_image = scan_sample(microscope_state)\n",
    "    finally:\n",
    "        remove_sample(microscope_state)\n",
    "finally:\n",
    "    release_void(microscope_state)\n",
    "\n",
    "release_microscope(microscope_state)"
   ]
  },
  {
   "cell_type": "markdown",
   "metadata": {},
   "source": [
    "Of course, we could define a function `safe_scan_image()` that does all of that and hides the complexity away, but the initial and final parts in the function will show up in a lot of similar functions (e.g. the one below). \n",
    "\n",
    "Plus, in general you want to pass in the microscope state for testing purposes."
   ]
  },
  {
   "cell_type": "code",
   "execution_count": null,
   "metadata": {
    "ExecuteTime": {
     "end_time": "2018-08-26T11:05:57.220250Z",
     "start_time": "2018-08-26T13:05:57.216117+02:00"
    },
    "collapsed": false
   },
   "outputs": [],
   "source": [
    "# Script to collect a calibration image from the microscope.\n",
    "microscope_state = connect_to_microscope()\n",
    "\n",
    "make_void(microscope_state)\n",
    "try:\n",
    "    try:\n",
    "        calibration_image = calibrate(microscope_state)\n",
    "    finally:\n",
    "        release_void(microscope_state)\n",
    "finally:\n",
    "    release_microscope(microscope_state)"
   ]
  },
  {
   "cell_type": "markdown",
   "metadata": {},
   "source": [
    "## How to define a context manager"
   ]
  },
  {
   "cell_type": "markdown",
   "metadata": {
    "ExecuteTime": {
     "end_time": "2018-08-26T11:08:48.451689Z",
     "start_time": "2018-08-26T13:08:48.447837+02:00"
    }
   },
   "source": [
    "We would like to write something like this:\n",
    "\n",
    "```\n",
    "with do_stuff_under_void(microscope_state):\n",
    "    calibration_image = calibrate(microscope_state)\n",
    "```\n",
    "\n",
    "That is what context managers are for!"
   ]
  },
  {
   "cell_type": "code",
   "execution_count": null,
   "metadata": {
    "ExecuteTime": {
     "end_time": "2018-08-26T11:09:14.338249Z",
     "start_time": "2018-08-26T13:09:14.333774+02:00"
    },
    "collapsed": true
   },
   "outputs": [],
   "source": [
    "def do_stuff_under_void(microscope_state):\n",
    "    make_void(microscope_state)\n",
    "    try:\n",
    "        return microscope_state\n",
    "        # Here do some stuff with microscope_state\n",
    "        # Come back here\n",
    "    finally:\n",
    "        release_void(microscope_state)\n",
    "\n",
    "# But \"return\" makes the function quits... we've seen \"yield\" though!"
   ]
  },
  {
   "cell_type": "markdown",
   "metadata": {},
   "source": [
    "We can use the `yield` keyword together with the `@contextmanager` to define a \"context manager\":"
   ]
  },
  {
   "cell_type": "code",
   "execution_count": null,
   "metadata": {
    "ExecuteTime": {
     "end_time": "2018-08-26T11:10:04.072465Z",
     "start_time": "2018-08-26T13:10:04.068264+02:00"
    },
    "collapsed": true
   },
   "outputs": [],
   "source": [
    "from contextlib import contextmanager\n",
    "\n",
    "@contextmanager\n",
    "def do_stuff_under_void(microscope_state):\n",
    "    make_void(microscope_state)\n",
    "    try:\n",
    "        yield  # The control is returned, and a block of code is executed\n",
    "        # The context manager continues from this point when the block of code exits\n",
    "    finally:\n",
    "        release_void(microscope_state)\n",
    "\n"
   ]
  },
  {
   "cell_type": "code",
   "execution_count": null,
   "metadata": {
    "ExecuteTime": {
     "end_time": "2018-08-26T11:10:05.951921Z",
     "start_time": "2018-08-26T13:10:05.947678+02:00"
    },
    "collapsed": false
   },
   "outputs": [],
   "source": [
    "microscope_state = connect_to_microscope()\n",
    "\n",
    "with do_stuff_under_void(microscope_state):\n",
    "    calibration_image = calibrate(microscope_state)\n",
    "\n",
    "release_microscope(microscope_state)"
   ]
  },
  {
   "cell_type": "markdown",
   "metadata": {},
   "source": [
    "## Hands-on 1\n",
    "\n",
    "Define a new context manager called `sample_inserted` that inserts a sample in the microscope before executing a block of code, and safely removes it at the end of the block.\n",
    "\n",
    "Rewrite the brain-scan script using the `do_stuff_under_void` and the `sample_inserted` context managers\n"
   ]
  },
  {
   "cell_type": "code",
   "execution_count": null,
   "metadata": {
    "ExecuteTime": {
     "end_time": "2018-08-26T11:22:55.086923Z",
     "start_time": "2018-08-26T13:22:55.081077+02:00"
    },
    "collapsed": false
   },
   "outputs": [],
   "source": []
  },
  {
   "cell_type": "markdown",
   "metadata": {},
   "source": [
    "## Context managers can return an initialized objects\n",
    "\n",
    "Now that we're hooked to context managers, we would like to handle the connection to the microscope the same way."
   ]
  },
  {
   "cell_type": "code",
   "execution_count": null,
   "metadata": {
    "ExecuteTime": {
     "end_time": "2018-08-26T11:36:37.280496Z",
     "start_time": "2018-08-26T13:36:37.275405+02:00"
    },
    "collapsed": false
   },
   "outputs": [],
   "source": [
    "@contextmanager\n",
    "def microscope_connection():\n",
    "    microscope_state = connect_to_microscope()\n",
    "    try:\n",
    "        yield microscope_state  # This allows the block to access this object\n",
    "    finally:\n",
    "        release_microscope(microscope_state)\n",
    "\n",
    "with microscope_connection() as state:\n",
    "    print('Is connected?', state.connected)\n",
    "print('Is connected?', state.connected)"
   ]
  },
  {
   "cell_type": "markdown",
   "metadata": {},
   "source": [
    "## Summing it all up\n",
    "\n",
    "Summing it all up, a safe script to calibrate the microscope and take a brain sample could look like this:"
   ]
  },
  {
   "cell_type": "code",
   "execution_count": null,
   "metadata": {
    "ExecuteTime": {
     "end_time": "2018-08-26T11:37:15.893926Z",
     "start_time": "2018-08-26T13:37:15.882047+02:00"
    },
    "collapsed": false
   },
   "outputs": [],
   "source": [
    "@contextmanager\n",
    "def microscope_connection():\n",
    "    microscope_state = connect_to_microscope()\n",
    "    try:\n",
    "        yield microscope_state\n",
    "    finally:\n",
    "        release_microscope(microscope_state)\n",
    "\n",
    "@contextmanager\n",
    "def do_stuff_under_void(microscope_state):\n",
    "    make_void(microscope_state)\n",
    "    try:\n",
    "        yield\n",
    "    finally:\n",
    "        release_void(microscope_state)\n",
    "\n",
    "@contextmanager\n",
    "def sample_inserted(microscope_state):\n",
    "    insert_sample(microscope_state)\n",
    "    try:\n",
    "        yield\n",
    "    finally:\n",
    "        remove_sample(microscope_state)\n",
    "\n",
    "        \n",
    "with microscope_connection() as state:\n",
    "    # Collect calibration image\n",
    "    with do_stuff_under_void(state):\n",
    "        calibration_image = calibrate(state)\n",
    "\n",
    "    # Scan brain sample\n",
    "    with do_stuff_under_void(state):\n",
    "        with sample_inserted(state):\n",
    "            sample_image = scan_sample(state)\n"
   ]
  },
  {
   "cell_type": "markdown",
   "metadata": {},
   "source": [
    "## Hands-on 2"
   ]
  },
  {
   "cell_type": "markdown",
   "metadata": {},
   "source": [
    "Write a context manager called `temp_textfile` that takes a file name and creates a temporary text file with a given name. The file is deleted at the end of the block.\n",
    "\n",
    "This is useful for testing: you don't want to leave files behind when the test fails! (See also `tempfile.TemporaryFile`)"
   ]
  },
  {
   "cell_type": "code",
   "execution_count": null,
   "metadata": {
    "collapsed": true
   },
   "outputs": [],
   "source": [
    "# ... write the `temp_textfile` context manager here\n",
    "\n",
    "with temp_textfile('to_be_deleted.txt') as f:\n",
    "    f.write('Hello world!')\n",
    "    f.seek(0)\n",
    "    print(f.read(5))\n",
    "\n",
    "assert not os.path.exists('to_be_deleted.txt')"
   ]
  },
  {
   "cell_type": "code",
   "execution_count": null,
   "metadata": {
    "ExecuteTime": {
     "end_time": "2018-08-26T14:17:10.045344Z",
     "start_time": "2018-08-26T16:17:10.038950+02:00"
    },
    "collapsed": false
   },
   "outputs": [],
   "source": []
  },
  {
   "cell_type": "markdown",
   "metadata": {},
   "source": [
    "## Famous context managers"
   ]
  },
  {
   "cell_type": "markdown",
   "metadata": {},
   "source": [
    "There are a few famous context managers that you should know about and use in your code!"
   ]
  },
  {
   "cell_type": "markdown",
   "metadata": {},
   "source": [
    "### `open`\n",
    "\n",
    "A classic: open a file and make sure that the file handle is released even if an error occurs."
   ]
  },
  {
   "cell_type": "code",
   "execution_count": null,
   "metadata": {
    "ExecuteTime": {
     "end_time": "2018-08-26T13:31:57.321587Z",
     "start_time": "2018-08-26T15:31:57.316367+02:00"
    },
    "collapsed": false,
    "scrolled": true
   },
   "outputs": [],
   "source": [
    "with open('haiku.txt', 'w') as f:\n",
    "    f.write('Out of memory.\\nWe wish to hold the whole sky,\\nBut we never will.\\n')\n",
    "\n",
    "with open('haiku.txt', 'r') as f:\n",
    "    for line in f:\n",
    "        print(line.strip())"
   ]
  },
  {
   "cell_type": "markdown",
   "metadata": {},
   "source": [
    "### Matplotlib's `rc_context`\n",
    "\n",
    "Temporarily set the matplotlib style options (see https://matplotlib.org/users/customizing.html). \n",
    "\n",
    "This is a common context manager pattern: temporary changes to the configuration of something.\n",
    "\n",
    "Similarly: `pandas.option_context` \n",
    "(https://pandas.pydata.org/pandas-docs/stable/generated/pandas.option_context.html)"
   ]
  },
  {
   "cell_type": "code",
   "execution_count": null,
   "metadata": {
    "ExecuteTime": {
     "end_time": "2018-08-26T13:20:19.263116Z",
     "start_time": "2018-08-26T15:20:19.068304+02:00"
    },
    "collapsed": false
   },
   "outputs": [],
   "source": [
    "%matplotlib inline\n",
    "\n",
    "import matplotlib.pyplot as plt\n",
    "import numpy as np\n",
    "\n",
    "x = np.linspace(-1, 1, 100)\n",
    "y = x ** 3\n",
    "plt.plot(x, y)\n",
    "plt.xlabel('X')\n",
    "plt.ylabel('Y')\n",
    "plt.title('A plot')"
   ]
  },
  {
   "cell_type": "code",
   "execution_count": null,
   "metadata": {
    "ExecuteTime": {
     "end_time": "2018-08-26T13:20:53.856734Z",
     "start_time": "2018-08-26T15:20:53.618945+02:00"
    },
    "collapsed": false
   },
   "outputs": [],
   "source": [
    "with plt.rc_context(rc={'figure.figsize': (12, 6), 'font.size': 28}):\n",
    "    plt.plot(x, y)\n",
    "    plt.xlabel('X')\n",
    "    plt.ylabel('Y')\n",
    "    plt.title('A plot')\n"
   ]
  },
  {
   "cell_type": "markdown",
   "metadata": {},
   "source": [
    "### DB transactions"
   ]
  },
  {
   "cell_type": "markdown",
   "metadata": {},
   "source": [
    "We can insert some values like this..."
   ]
  },
  {
   "cell_type": "code",
   "execution_count": null,
   "metadata": {
    "ExecuteTime": {
     "end_time": "2018-08-26T14:03:52.360120Z",
     "start_time": "2018-08-26T16:03:52.353773+02:00"
    },
    "collapsed": false
   },
   "outputs": [],
   "source": [
    "import sqlite3\n",
    "\n",
    "conn = sqlite3.connect(':memory:')\n",
    "conn.execute('CREATE TABLE users (id INT PRIMARY KEY, name CHAR(50))')\n",
    "\n",
    "values = [(1, 'Pietro'), (2, 'Tiziano')]\n",
    "for value in values:\n",
    "    conn.execute('INSERT INTO users(id, name) VALUES (?, ?)', value)\n",
    "\n",
    "result = conn.execute('SELECT * FROM users')\n",
    "print(result.fetchall())"
   ]
  },
  {
   "cell_type": "markdown",
   "metadata": {},
   "source": [
    "But often we want to have a bloc of statements either succeed together, or not be executed at all. For example, in a bank transfer!"
   ]
  },
  {
   "cell_type": "code",
   "execution_count": null,
   "metadata": {
    "ExecuteTime": {
     "end_time": "2018-08-26T14:04:17.704604Z",
     "start_time": "2018-08-26T16:04:17.696670+02:00"
    },
    "collapsed": false
   },
   "outputs": [],
   "source": [
    "conn = sqlite3.connect(':memory:')\n",
    "conn.execute('CREATE TABLE users (id INT PRIMARY KEY, name CHAR(50))')\n",
    "\n",
    "values = [(1, 'Pietro'), (2, 'Tiziano'), 'Zbyszek']\n",
    "for value in values:\n",
    "    conn.execute('INSERT INTO users(id, name) VALUES (?, ?)', value)\n"
   ]
  },
  {
   "cell_type": "code",
   "execution_count": null,
   "metadata": {
    "ExecuteTime": {
     "end_time": "2018-08-26T14:04:18.379420Z",
     "start_time": "2018-08-26T16:04:18.376072+02:00"
    },
    "collapsed": false
   },
   "outputs": [],
   "source": [
    "result = conn.execute('SELECT * FROM users')\n",
    "print(result.fetchall())"
   ]
  },
  {
   "cell_type": "markdown",
   "metadata": {},
   "source": [
    "Using `conn` as a context manager defines a DB transaction: if there is one error, all statements are rolled back and the DB does not change."
   ]
  },
  {
   "cell_type": "code",
   "execution_count": null,
   "metadata": {
    "ExecuteTime": {
     "end_time": "2018-08-26T14:04:35.964953Z",
     "start_time": "2018-08-26T16:04:35.957379+02:00"
    },
    "collapsed": false
   },
   "outputs": [],
   "source": [
    "conn = sqlite3.connect(':memory:')\n",
    "conn.execute('CREATE TABLE users (id INT PRIMARY KEY, name CHAR(50))')\n",
    "\n",
    "values = [(1, 'Pietro'), (2, 'Tiziano'), 'Zbyszek']\n",
    "with conn:\n",
    "    for value in values:\n",
    "        conn.execute('INSERT INTO users(id, name) VALUES (?, ?)', value)\n"
   ]
  },
  {
   "cell_type": "code",
   "execution_count": null,
   "metadata": {
    "ExecuteTime": {
     "end_time": "2018-08-26T14:04:40.506992Z",
     "start_time": "2018-08-26T16:04:40.503738+02:00"
    },
    "collapsed": false
   },
   "outputs": [],
   "source": [
    "result = conn.execute('SELECT * FROM users')\n",
    "print(result.fetchall())"
   ]
  },
  {
   "cell_type": "markdown",
   "metadata": {},
   "source": [
    "### `contextlib.suppress`"
   ]
  },
  {
   "cell_type": "markdown",
   "metadata": {},
   "source": [
    "`contextlib.suppress` suppresses one or more exceptions while the block of code is executed"
   ]
  },
  {
   "cell_type": "code",
   "execution_count": null,
   "metadata": {
    "ExecuteTime": {
     "end_time": "2018-08-26T14:10:39.749314Z",
     "start_time": "2018-08-26T16:10:39.746189+02:00"
    },
    "collapsed": false
   },
   "outputs": [],
   "source": [
    "from contextlib import suppress\n",
    "import os\n",
    "\n",
    "with suppress(FileNotFoundError):\n",
    "    os.remove('haiku.txt')"
   ]
  },
  {
   "cell_type": "code",
   "execution_count": null,
   "metadata": {
    "collapsed": true
   },
   "outputs": [],
   "source": []
  }
 ],
 "metadata": {
  "hide_input": false,
  "kernelspec": {
   "display_name": "Python [conda env:scratch]",
   "language": "python",
   "name": "conda-env-scratch-py"
  },
  "language_info": {
   "codemirror_mode": {
    "name": "ipython",
    "version": 3
   },
   "file_extension": ".py",
   "mimetype": "text/x-python",
   "name": "python",
   "nbconvert_exporter": "python",
   "pygments_lexer": "ipython3",
   "version": "3.5.2"
  },
  "toc": {
   "nav_menu": {
    "height": "228px",
    "width": "252px"
   },
   "navigate_menu": true,
   "number_sections": true,
   "sideBar": true,
   "threshold": 4,
   "toc_cell": false,
   "toc_section_display": "block",
   "toc_window_display": false
  }
 },
 "nbformat": 4,
 "nbformat_minor": 2
}

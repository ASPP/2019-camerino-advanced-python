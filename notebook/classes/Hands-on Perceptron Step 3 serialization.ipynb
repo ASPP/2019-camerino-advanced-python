{
 "cells": [
  {
   "cell_type": "markdown",
   "metadata": {},
   "source": [
    "# Hands-on: The Perceptron class with serialization\n",
    "\n",
    "The perceptron is a primitive neural network that weights its input linearly, and outputs +1 or -1 depending on results.\n",
    "\n",
    "This notebook provides a set of functions that define a fully functioning perceptron.\n",
    "\n",
    "We want to remove any existing smell!"
   ]
  },
  {
   "cell_type": "code",
   "execution_count": 1,
   "metadata": {
    "ExecuteTime": {
     "end_time": "2018-08-27T12:45:50.284167Z",
     "start_time": "2018-08-27T14:45:49.661197+02:00"
    },
    "collapsed": true
   },
   "outputs": [],
   "source": [
    "%matplotlib inline\n",
    "\n",
    "import json\n",
    "\n",
    "import matplotlib.pyplot as plt\n",
    "import numpy as np"
   ]
  },
  {
   "cell_type": "markdown",
   "metadata": {},
   "source": [
    "## Perceptron definition\n",
    "\n",
    "The following functions are all that is needed to create, train, and use a perceptron."
   ]
  },
  {
   "cell_type": "code",
   "execution_count": 2,
   "metadata": {
    "ExecuteTime": {
     "end_time": "2018-08-27T12:49:23.785137Z",
     "start_time": "2018-08-27T14:49:23.739814+02:00"
    },
    "collapsed": false
   },
   "outputs": [],
   "source": [
    "class Perceptron:\n",
    "    def __init__(self, bias, weights):\n",
    "        self.bias = bias\n",
    "        self.weights = weights\n",
    "\n",
    "    @classmethod\n",
    "    def random_params(cls, n_features, random_state=np.random):\n",
    "        bias = 0.0\n",
    "        weights = random_state.randn(n_features) * 0.001\n",
    "        return cls(bias, weights)\n",
    "\n",
    "    def update(self, learning_rate, X, y):\n",
    "        \"\"\" Single update to the perceptron to perdict target `y` from input `X`.\n",
    "\n",
    "        Returns\n",
    "        -------\n",
    "        cost: float\n",
    "            Current training sum-of-squares error cost.\n",
    "        \"\"\"\n",
    "        # Compute activation with current parameters, and compute the error.\n",
    "        output = self.activation(X)\n",
    "        errors = y - output\n",
    "\n",
    "        # Update parameters to improve prediction.\n",
    "        self.weights = self.weights + learning_rate * X.T.dot(errors)\n",
    "        self.bias = self.bias + learning_rate * errors.sum()\n",
    "\n",
    "        # Measure sum-of-squares error cost.\n",
    "        cost = (errors ** 2).sum() / 2.0\n",
    "        return cost\n",
    "    \n",
    "    def activation(self, X):\n",
    "        \"\"\" Compute linear activation for output layer. \"\"\"\n",
    "        return np.dot(X, self.weights) + self.bias\n",
    "\n",
    "    def predict(self, X):\n",
    "        \"\"\" Predict class label from input `X`. \"\"\"\n",
    "        return np.where(self.activation(X) >= 0.0, 1, -1)\n",
    "    \n",
    "    @classmethod\n",
    "    def from_json(cls, json_str):\n",
    "        params = json.loads(json_str)\n",
    "        params['weights'] = np.array(params['weights'])\n",
    "        return cls(**params)\n",
    "    \n",
    "    def to_json(self):\n",
    "        params = {\n",
    "            'bias': self.bias,\n",
    "            'weights': self.weights.tolist(),\n",
    "        }\n",
    "        return json.dumps(params)\n",
    "\n",
    "\n",
    "def fixed_rate_training(perceptron, learning_rate, n_iterations, X, y):\n",
    "    \"\"\" Train a perceptron to perdict target `y` from input `X`. \n",
    "    \n",
    "    Use a fixed training rate.\n",
    "    \"\"\"\n",
    "\n",
    "    costs = []\n",
    "    for idx in range(n_iterations):\n",
    "        cost = perceptron.update(learning_rate, X, y)\n",
    "        costs.append(cost)\n",
    "    return costs"
   ]
  },
  {
   "cell_type": "markdown",
   "metadata": {},
   "source": [
    "## Example use of the perceptron "
   ]
  },
  {
   "cell_type": "markdown",
   "metadata": {},
   "source": [
    "We load the \"Iris\" dataset, where we need to predict the species of an Iris flower based on the petal and sepal length and witdth."
   ]
  },
  {
   "cell_type": "code",
   "execution_count": 3,
   "metadata": {
    "ExecuteTime": {
     "end_time": "2018-08-27T12:49:25.356080Z",
     "start_time": "2018-08-27T14:49:24.994615+02:00"
    },
    "collapsed": true
   },
   "outputs": [],
   "source": [
    "from sklearn import datasets\n",
    "\n",
    "iris = datasets.load_iris()\n",
    "\n",
    "# A few uninteresting steps to reduce the problem to 2 species, and recode the target labels to +1 and -1\n",
    "two_classes_mask = iris.target < 2\n",
    "X = iris.data[two_classes_mask]\n",
    "y = iris.target[two_classes_mask]\n",
    "y[y==0] = -1"
   ]
  },
  {
   "cell_type": "markdown",
   "metadata": {},
   "source": [
    "We split the data in a training and test set."
   ]
  },
  {
   "cell_type": "code",
   "execution_count": 4,
   "metadata": {
    "ExecuteTime": {
     "end_time": "2018-08-27T12:49:25.902038Z",
     "start_time": "2018-08-27T14:49:25.881048+02:00"
    },
    "collapsed": true
   },
   "outputs": [],
   "source": [
    "from sklearn.model_selection import train_test_split\n",
    "\n",
    "X_train, X_test, y_train, y_test = train_test_split(X, y, test_size=0.3, random_state=678)"
   ]
  },
  {
   "cell_type": "markdown",
   "metadata": {},
   "source": [
    "Next we train a perceptron to predict the Iris species."
   ]
  },
  {
   "cell_type": "code",
   "execution_count": 5,
   "metadata": {
    "ExecuteTime": {
     "end_time": "2018-08-27T12:49:33.602303Z",
     "start_time": "2018-08-27T14:49:33.371380+02:00"
    },
    "collapsed": false
   },
   "outputs": [
    {
     "data": {
      "image/png": "[encoded data removed]",
      "text/plain": [
       "<matplotlib.figure.Figure at 0x1813f4e240>"
      ]
     },
     "metadata": {},
     "output_type": "display_data"
    }
   ],
   "source": [
    "random_state = np.random.RandomState(783838)\n",
    "\n",
    "perceptron = Perceptron.random_params(n_features=X.shape[1], random_state=random_state)\n",
    "\n",
    "learning_rate = 0.0001\n",
    "n_iterations = 200\n",
    "costs = fixed_rate_training(perceptron, learning_rate, n_iterations, X_train, y_train)\n",
    "\n",
    "with plt.rc_context(rc={'figure.figsize': (12, 6), 'font.size': 16}):\n",
    "    plt.plot(costs)\n",
    "    plt.xlabel('Iterations')\n",
    "    plt.ylabel('Cost')"
   ]
  },
  {
   "cell_type": "code",
   "execution_count": 6,
   "metadata": {
    "ExecuteTime": {
     "end_time": "2018-08-27T12:50:45.036689Z",
     "start_time": "2018-08-27T14:50:45.033301+02:00"
    },
    "collapsed": true
   },
   "outputs": [],
   "source": [
    "# Save perceptron\n",
    "with open('perceptron.json', 'w') as f:\n",
    "    f.write(perceptron.to_json())"
   ]
  },
  {
   "cell_type": "code",
   "execution_count": 7,
   "metadata": {
    "ExecuteTime": {
     "end_time": "2018-08-27T12:51:28.846884Z",
     "start_time": "2018-08-27T14:51:28.843710+02:00"
    },
    "collapsed": true
   },
   "outputs": [],
   "source": [
    "# Reload perceptron\n",
    "with open('perceptron.json', 'r') as f:\n",
    "    json_str = f.read()\n",
    "    reloaded = Perceptron.from_json(json_str)"
   ]
  },
  {
   "cell_type": "markdown",
   "metadata": {},
   "source": [
    "Finally, we predict use the perceptron to predict the species for the test data, and plot the results.\n",
    "\n",
    "We plot a green circle around a point if it was predicted correctly, and a red one if not."
   ]
  },
  {
   "cell_type": "code",
   "execution_count": 10,
   "metadata": {
    "ExecuteTime": {
     "end_time": "2018-08-27T12:52:39.921583Z",
     "start_time": "2018-08-27T14:52:39.917892+02:00"
    },
    "collapsed": false
   },
   "outputs": [
    {
     "name": "stdout",
     "output_type": "stream",
     "text": [
      "Number of errors: 0\n"
     ]
    }
   ],
   "source": [
    "predicted = reloaded.predict(X_test)\n",
    "correct = predicted == y_test\n",
    "print('Number of errors:', len(y_test) - correct.sum())\n"
   ]
  },
  {
   "cell_type": "code",
   "execution_count": 11,
   "metadata": {
    "ExecuteTime": {
     "end_time": "2018-08-27T12:52:40.868324Z",
     "start_time": "2018-08-27T14:52:40.675358+02:00"
    },
    "collapsed": false
   },
   "outputs": [
    {
     "data": {
      "image/png": "[encoded data removed]",
      "text/plain": [
       "<matplotlib.figure.Figure at 0x1813f56c50>"
      ]
     },
     "metadata": {},
     "output_type": "display_data"
    }
   ],
   "source": [
    "marker = np.where(correct, 'o', 'x')\n",
    "with plt.rc_context(rc={'figure.figsize': (6, 6), 'font.size': 16}):\n",
    "    plt.scatter(X_test[correct, 0], X_test[correct, 1], c=y_test[correct], \n",
    "                cmap=plt.cm.Set1, marker='o', edgecolors='g', linewidths=2.0)\n",
    "    plt.xlabel(iris.feature_names[0].capitalize())\n",
    "    plt.ylabel(iris.feature_names[1].capitalize())\n",
    "\n",
    "    plt.scatter(X_test[~correct, 0], X_test[~correct, 1], c=y_test[~correct], \n",
    "                marker='o', edgecolors='r')\n",
    "    plt.xlabel(iris.feature_names[0].capitalize())\n",
    "    plt.ylabel(iris.feature_names[1].capitalize())\n"
   ]
  },
  {
   "cell_type": "code",
   "execution_count": null,
   "metadata": {
    "collapsed": true
   },
   "outputs": [],
   "source": []
  }
 ],
 "metadata": {
  "hide_input": false,
  "kernelspec": {
   "display_name": "Python [conda env:scratch]",
   "language": "python",
   "name": "conda-env-scratch-py"
  },
  "language_info": {
   "codemirror_mode": {
    "name": "ipython",
    "version": 3
   },
   "file_extension": ".py",
   "mimetype": "text/x-python",
   "name": "python",
   "nbconvert_exporter": "python",
   "pygments_lexer": "ipython3",
   "version": "3.5.2"
  },
  "toc": {
   "nav_menu": {
    "height": "66px",
    "width": "252px"
   },
   "navigate_menu": true,
   "number_sections": true,
   "sideBar": true,
   "threshold": 4,
   "toc_cell": false,
   "toc_section_display": "block",
   "toc_window_display": false
  }
 },
 "nbformat": 4,
 "nbformat_minor": 2
}

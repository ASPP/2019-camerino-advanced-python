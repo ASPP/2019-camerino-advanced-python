{
 "cells": [
  {
   "cell_type": "markdown",
   "metadata": {},
   "source": [
    "# The smell of classes"
   ]
  },
  {
   "cell_type": "markdown",
   "metadata": {},
   "source": [
    "## The \"data bundle\" smell"
   ]
  },
  {
   "cell_type": "code",
   "execution_count": 34,
   "metadata": {
    "ExecuteTime": {
     "end_time": "2018-07-27T15:05:51.531289Z",
     "start_time": "2018-07-27T17:05:51.526519+02:00"
    },
    "collapsed": true
   },
   "outputs": [],
   "source": [
    "def momentum(mass, velocity):\n",
    "    return mass * velocity\n",
    "\n",
    "def energy(mass, velocity):\n",
    "    return 0.5 * mass * velocity ** 2\n",
    "\n",
    "def update_position(velocity, position, dt):\n",
    "    return position + velocity * dt"
   ]
  },
  {
   "cell_type": "code",
   "execution_count": 35,
   "metadata": {
    "ExecuteTime": {
     "end_time": "2018-07-27T15:05:51.905235Z",
     "start_time": "2018-07-27T17:05:51.900153+02:00"
    },
    "collapsed": false
   },
   "outputs": [
    {
     "name": "stdout",
     "output_type": "stream",
     "text": [
      "9.0\n",
      "1.2000000000000002\n",
      "1.0\n"
     ]
    }
   ],
   "source": [
    "# Naive\n",
    "mass1 = 10.0\n",
    "velocity1 = 0.9\n",
    "position1 = 0.0\n",
    "\n",
    "mass2 = 12.0\n",
    "velocity2 = 0.1\n",
    "position2 = -23.0\n",
    "\n",
    "print(momentum(mass1, velocity1))\n",
    "print(momentum(mass2, velocity2))\n",
    "print(momentum(mass1, velocity2))  # ??"
   ]
  },
  {
   "cell_type": "markdown",
   "metadata": {},
   "source": [
    "We have three parameters that will be sent to these functions over and over again: `mass`, `velocity`, and `position`.\n",
    "\n",
    "Moreover, the parameters cannot be mixed up (e.g. the velocity of one particle with the mass of another)."
   ]
  },
  {
   "cell_type": "code",
   "execution_count": 36,
   "metadata": {
    "ExecuteTime": {
     "end_time": "2018-07-27T15:05:52.116795Z",
     "start_time": "2018-07-27T17:05:52.112569+02:00"
    },
    "collapsed": false
   },
   "outputs": [
    {
     "name": "stdout",
     "output_type": "stream",
     "text": [
      "9.0\n",
      "1.2000000000000002\n"
     ]
    }
   ],
   "source": [
    "masses = [10.0, 12.0]\n",
    "velocities = [0.9, 0.1]\n",
    "positions = [0.0, -23.0]\n",
    "\n",
    "print(momentum(masses[0], velocities[0]))\n",
    "print(momentum(masses[1], velocities[1]))"
   ]
  },
  {
   "cell_type": "code",
   "execution_count": 37,
   "metadata": {
    "ExecuteTime": {
     "end_time": "2018-07-27T15:05:52.548364Z",
     "start_time": "2018-07-27T17:05:52.544726+02:00"
    },
    "collapsed": false
   },
   "outputs": [
    {
     "name": "stdout",
     "output_type": "stream",
     "text": [
      "9.0\n",
      "1.2000000000000002\n"
     ]
    }
   ],
   "source": [
    "particle1 = {'mass': 10.0, 'velocity': 0.9, 'position': 0.0}\n",
    "particle2 = {'mass': 12.0, 'velocity': 0.1, 'position': -23.0}\n",
    "\n",
    "print(momentum(particle1['mass'], particle1['velocity']))\n",
    "print(momentum(particle2['mass'], particle2['velocity']))\n"
   ]
  },
  {
   "cell_type": "markdown",
   "metadata": {},
   "source": [
    "All of the functions above can be rewritten as a function of this particle \"object\", eliminating the bookkeeping for the individual parameters."
   ]
  },
  {
   "cell_type": "code",
   "execution_count": 38,
   "metadata": {
    "ExecuteTime": {
     "end_time": "2018-07-27T15:05:53.571400Z",
     "start_time": "2018-07-27T17:05:53.567192+02:00"
    },
    "collapsed": false
   },
   "outputs": [
    {
     "name": "stdout",
     "output_type": "stream",
     "text": [
      "9.0\n",
      "1.2000000000000002\n"
     ]
    }
   ],
   "source": [
    "def momentum(particle):\n",
    "    return particle['mass'] * particle['velocity']\n",
    "\n",
    "print(momentum(particle1))\n",
    "print(momentum(particle2))\n"
   ]
  },
  {
   "cell_type": "code",
   "execution_count": 41,
   "metadata": {
    "ExecuteTime": {
     "end_time": "2018-07-27T15:06:20.004037Z",
     "start_time": "2018-07-27T17:06:19.998500+02:00"
    },
    "collapsed": false
   },
   "outputs": [
    {
     "name": "stdout",
     "output_type": "stream",
     "text": [
      "9.0\n",
      "1.2000000000000002\n"
     ]
    }
   ],
   "source": [
    "def init_particle(mass, velocity, position=0.0):\n",
    "    self = {\n",
    "        'mass': mass,\n",
    "        'velocity': velocity,\n",
    "        'position': position,\n",
    "    }\n",
    "    return self\n",
    "\n",
    "particle1 = init_particle(10.0, 0.9)\n",
    "particle2 = init_particle(12.0, 0.1, -23.0)\n",
    "print(momentum(particle1))\n",
    "print(momentum(particle2))\n"
   ]
  },
  {
   "cell_type": "markdown",
   "metadata": {},
   "source": [
    "`particle1` and `particle2` are called \"instances\" of the particle \"class\".\n",
    "\n",
    "Python classes are a way to formalize this pattern."
   ]
  },
  {
   "cell_type": "markdown",
   "metadata": {},
   "source": [
    "## Introducing classes as a data bundle template"
   ]
  },
  {
   "cell_type": "code",
   "execution_count": 61,
   "metadata": {
    "ExecuteTime": {
     "end_time": "2018-08-04T13:04:49.208543Z",
     "start_time": "2018-08-04T15:04:49.203180+02:00"
    },
    "collapsed": true
   },
   "outputs": [],
   "source": [
    "class Particle:\n",
    "    def __init__(self, mass, velocity, position=0.0):\n",
    "        self.mass = mass\n",
    "        self.velocity = velocity\n",
    "        self.position = position\n",
    "\n",
    "particle1 = Particle(10.0, 0.9)\n",
    "particle2 = Particle(12.0, 0.1, -23.0)"
   ]
  },
  {
   "cell_type": "code",
   "execution_count": 44,
   "metadata": {
    "ExecuteTime": {
     "end_time": "2018-07-27T15:07:09.818544Z",
     "start_time": "2018-07-27T17:07:09.814535+02:00"
    },
    "collapsed": false
   },
   "outputs": [
    {
     "data": {
      "text/plain": [
       "0.9"
      ]
     },
     "execution_count": 44,
     "metadata": {},
     "output_type": "execute_result"
    }
   ],
   "source": [
    "particle1.velocity"
   ]
  },
  {
   "cell_type": "code",
   "execution_count": 45,
   "metadata": {
    "ExecuteTime": {
     "end_time": "2018-07-27T15:07:09.997264Z",
     "start_time": "2018-07-27T17:07:09.994114+02:00"
    },
    "collapsed": false
   },
   "outputs": [
    {
     "data": {
      "text/plain": [
       "12.0"
      ]
     },
     "execution_count": 45,
     "metadata": {},
     "output_type": "execute_result"
    }
   ],
   "source": [
    "particle2.mass"
   ]
  },
  {
   "cell_type": "code",
   "execution_count": 46,
   "metadata": {
    "ExecuteTime": {
     "end_time": "2018-07-27T15:07:11.559629Z",
     "start_time": "2018-07-27T17:07:11.555632+02:00"
    },
    "collapsed": false,
    "scrolled": true
   },
   "outputs": [
    {
     "data": {
      "text/plain": [
       "{'mass': 10.0, 'position': 0.0, 'velocity': 0.9}"
      ]
     },
     "execution_count": 46,
     "metadata": {},
     "output_type": "execute_result"
    }
   ],
   "source": [
    "particle1.__dict__"
   ]
  },
  {
   "cell_type": "markdown",
   "metadata": {},
   "source": [
    "## Exercise 1: Simple parameters class"
   ]
  },
  {
   "cell_type": "code",
   "execution_count": 94,
   "metadata": {
    "ExecuteTime": {
     "end_time": "2018-08-04T13:22:19.868467Z",
     "start_time": "2018-08-04T15:22:19.866480+02:00"
    },
    "collapsed": true
   },
   "outputs": [],
   "source": [
    "# ??? Something with a 3D coord vector; Cube3D class, with rotate etc. methods?"
   ]
  },
  {
   "cell_type": "code",
   "execution_count": 96,
   "metadata": {
    "ExecuteTime": {
     "end_time": "2018-08-04T13:47:24.873090Z",
     "start_time": "2018-08-04T15:47:24.681007+02:00"
    },
    "collapsed": false
   },
   "outputs": [],
   "source": [
    "import numpy as np\n",
    "\n",
    "position = np.array([-1.0, 1.0, 3.0])\n",
    "size = 0.3\n",
    "rotation = np.array(\n",
    "    [[1.0, 0.0, 0.0],\n",
    "     [0.0, 1.0, 0.0],\n",
    "     [0.0, 0.0, 1.0]\n",
    "    ]\n",
    ")"
   ]
  },
  {
   "cell_type": "code",
   "execution_count": 98,
   "metadata": {
    "ExecuteTime": {
     "end_time": "2018-08-04T13:49:13.843111Z",
     "start_time": "2018-08-04T15:49:13.840872+02:00"
    },
    "collapsed": true
   },
   "outputs": [],
   "source": [
    "# ??? A markov model?"
   ]
  },
  {
   "cell_type": "code",
   "execution_count": null,
   "metadata": {
    "collapsed": true
   },
   "outputs": [],
   "source": [
    "# Probability of first state\n",
    "prob_first = np.array([0.1, 0.7, 0.2])\n",
    "prob_next = np.array([\n",
    "        [0.25, 0.25, 0.5],\n",
    "        [0.3, 0.2, 0.5],\n",
    "        [0.7, 0.1, 0.2],\n",
    "    ])\n",
    "\n",
    "def predict_first(prob_first):\n",
    "    np.random.binomial\n",
    "\n",
    "def predict_next(current_state, prob_next):\n",
    "    pass\n",
    "\n",
    "def predict(n, prob_first, prob_next, current_state=None):\n",
    "    pass\n",
    "\n",
    "# THIS ONE as additional class method in another exercise: from_observations\n",
    "def learn(states):\n",
    "    pass\n"
   ]
  },
  {
   "cell_type": "markdown",
   "metadata": {},
   "source": [
    "## Class methods"
   ]
  },
  {
   "cell_type": "code",
   "execution_count": 21,
   "metadata": {
    "ExecuteTime": {
     "end_time": "2018-07-27T12:13:56.972938Z",
     "start_time": "2018-07-27T14:13:56.969323+02:00"
    },
    "collapsed": false
   },
   "outputs": [
    {
     "name": "stdout",
     "output_type": "stream",
     "text": [
      "9.0\n",
      "1.2000000000000002\n"
     ]
    }
   ],
   "source": [
    "def momentum(particle):\n",
    "    return particle.mass * particle.velocity\n",
    "\n",
    "print(momentum(particle1))\n",
    "print(momentum(particle2))"
   ]
  },
  {
   "cell_type": "code",
   "execution_count": 30,
   "metadata": {
    "ExecuteTime": {
     "end_time": "2018-07-27T14:17:07.513665Z",
     "start_time": "2018-07-27T16:17:07.507397+02:00"
    },
    "collapsed": false
   },
   "outputs": [
    {
     "name": "stdout",
     "output_type": "stream",
     "text": [
      "9.0\n"
     ]
    }
   ],
   "source": [
    "class Particle:\n",
    "    def __init__(self, mass, velocity, position=0.0):\n",
    "        self.mass = mass\n",
    "        self.velocity = velocity\n",
    "        self.position = position\n",
    "\n",
    "    def momentum(self):\n",
    "        return self.mass * self.velocity\n",
    "    \n",
    "    def energy(self):\n",
    "        return 0.5 * self.mass * self.velocity ** 2\n",
    "\n",
    "particle1 = Particle(10.0, 0.9, 0.0)\n",
    "print(particle1.momentum())"
   ]
  },
  {
   "cell_type": "markdown",
   "metadata": {},
   "source": [
    "We have been using class instances and methods all along..."
   ]
  },
  {
   "cell_type": "code",
   "execution_count": 54,
   "metadata": {
    "ExecuteTime": {
     "end_time": "2018-08-04T12:47:49.003978Z",
     "start_time": "2018-08-04T14:47:49.000195+02:00"
    },
    "collapsed": false
   },
   "outputs": [
    {
     "data": {
      "text/plain": [
       "'A scanner darkly'"
      ]
     },
     "execution_count": 54,
     "metadata": {},
     "output_type": "execute_result"
    }
   ],
   "source": [
    "s = 'A scanner Darkly'\n",
    "s.capitalize()"
   ]
  },
  {
   "cell_type": "code",
   "execution_count": 92,
   "metadata": {
    "ExecuteTime": {
     "end_time": "2018-08-04T13:18:03.108351Z",
     "start_time": "2018-08-04T15:18:03.104655+02:00"
    },
    "collapsed": false
   },
   "outputs": [
    {
     "data": {
      "text/plain": [
       "{'apple', 'banana', 'pineapple'}"
      ]
     },
     "execution_count": 92,
     "metadata": {},
     "output_type": "execute_result"
    }
   ],
   "source": [
    "x = set(['apple', 'banana', 'apple', 'pineapple'])\n",
    "x"
   ]
  },
  {
   "cell_type": "code",
   "execution_count": 91,
   "metadata": {
    "ExecuteTime": {
     "end_time": "2018-08-04T13:17:57.373622Z",
     "start_time": "2018-08-04T15:17:57.369638+02:00"
    },
    "collapsed": false
   },
   "outputs": [
    {
     "data": {
      "text/plain": [
       "{'apple', 'banana', 'kiwi', 'pineapple'}"
      ]
     },
     "execution_count": 91,
     "metadata": {},
     "output_type": "execute_result"
    }
   ],
   "source": [
    "x.union(['banana', 'kiwi'])"
   ]
  },
  {
   "cell_type": "markdown",
   "metadata": {},
   "source": [
    "## Giving the class more responsibilities: serialization"
   ]
  },
  {
   "cell_type": "code",
   "execution_count": 97,
   "metadata": {
    "ExecuteTime": {
     "end_time": "2018-08-04T13:48:45.382665Z",
     "start_time": "2018-08-04T15:48:45.380443+02:00"
    },
    "collapsed": true
   },
   "outputs": [],
   "source": [
    "# ??? Add something easier before this\n",
    "# ??? store initial coordinates, add a \"reset\" method\n",
    "\n",
    "# ??? replace particle with something a bit more interesting as a probability distribution"
   ]
  },
  {
   "cell_type": "code",
   "execution_count": 63,
   "metadata": {
    "ExecuteTime": {
     "end_time": "2018-08-04T13:05:08.571781Z",
     "start_time": "2018-08-04T15:05:08.563802+02:00"
    },
    "collapsed": true
   },
   "outputs": [],
   "source": [
    "import json\n",
    "\n",
    "class Particle:\n",
    "    def __init__(self, mass, velocity, position=0.0):\n",
    "        self.mass = mass\n",
    "        self.velocity = velocity\n",
    "        self.position = position\n",
    "\n",
    "    def momentum(self):\n",
    "        return self.mass * self.velocity\n",
    "    \n",
    "    def energy(self):\n",
    "        return 0.5 * self.mass * self.velocity ** 2\n",
    "    \n",
    "    # --- Serialization\n",
    "\n",
    "    def to_json(self):\n",
    "        params = {\n",
    "            'mass': self.mass,\n",
    "            'velocity': self.velocity,\n",
    "            'position': self.position,\n",
    "        }\n",
    "        return json.dumps(params)"
   ]
  },
  {
   "cell_type": "code",
   "execution_count": 82,
   "metadata": {
    "ExecuteTime": {
     "end_time": "2018-08-04T13:09:43.482521Z",
     "start_time": "2018-08-04T15:09:43.478570+02:00"
    },
    "collapsed": false
   },
   "outputs": [],
   "source": [
    "particle = Particle(13.0, 0.9, position=3.2)\n",
    "json_str = particle.to_json()\n",
    "\n",
    "with open('model_v1.json', 'wt') as f:\n",
    "    f.write(json_str)"
   ]
  },
  {
   "cell_type": "code",
   "execution_count": 83,
   "metadata": {
    "ExecuteTime": {
     "end_time": "2018-08-04T13:09:44.164644Z",
     "start_time": "2018-08-04T15:09:44.038744+02:00"
    },
    "collapsed": false
   },
   "outputs": [
    {
     "name": "stdout",
     "output_type": "stream",
     "text": [
      "{\"velocity\": 0.9, \"mass\": 13.0, \"position\": 3.2}"
     ]
    }
   ],
   "source": [
    "!cat model_v1.json"
   ]
  },
  {
   "cell_type": "code",
   "execution_count": 87,
   "metadata": {
    "ExecuteTime": {
     "end_time": "2018-08-04T13:10:02.310797Z",
     "start_time": "2018-08-04T15:10:02.299858+02:00"
    },
    "collapsed": true
   },
   "outputs": [],
   "source": [
    "class Particle:\n",
    "    def __init__(self, mass, velocity, position=0.0):\n",
    "        self.mass = mass\n",
    "        self.velocity = velocity\n",
    "        self.position = position\n",
    "\n",
    "    def momentum(self):\n",
    "        return self.mass * self.velocity\n",
    "    \n",
    "    def energy(self):\n",
    "        return 0.5 * self.mass * self.velocity ** 2\n",
    "    \n",
    "    # --- Serialization\n",
    "\n",
    "    def to_json(self):\n",
    "        params = {\n",
    "            'mass': self.mass,\n",
    "            'velocity': self.velocity,\n",
    "            'position': self.position,\n",
    "        }\n",
    "        return json.dumps(params)\n",
    "    \n",
    "    @classmethod\n",
    "    def from_json(cls, json_str):\n",
    "        params = json.loads(json_str)\n",
    "        return cls(**params)"
   ]
  },
  {
   "cell_type": "code",
   "execution_count": 85,
   "metadata": {
    "ExecuteTime": {
     "end_time": "2018-08-04T13:09:45.976050Z",
     "start_time": "2018-08-04T15:09:45.972557+02:00"
    },
    "collapsed": false
   },
   "outputs": [],
   "source": [
    "with open('model_v1.json', 'rt') as f:\n",
    "    json_str = f.read()\n",
    "    \n",
    "particle = Particle.from_json(json_str)"
   ]
  },
  {
   "cell_type": "code",
   "execution_count": 86,
   "metadata": {
    "ExecuteTime": {
     "end_time": "2018-08-04T13:09:46.410778Z",
     "start_time": "2018-08-04T15:09:46.407258+02:00"
    },
    "collapsed": false
   },
   "outputs": [
    {
     "data": {
      "text/plain": [
       "13.0"
      ]
     },
     "execution_count": 86,
     "metadata": {},
     "output_type": "execute_result"
    }
   ],
   "source": [
    "particle.mass"
   ]
  },
  {
   "cell_type": "markdown",
   "metadata": {},
   "source": [
    "## Exercise 2: Add serialization methods to the class of the previous exercise"
   ]
  },
  {
   "cell_type": "markdown",
   "metadata": {},
   "source": [
    "## Real-life examples"
   ]
  },
  {
   "cell_type": "markdown",
   "metadata": {},
   "source": [
    "https://bitbucket.org/pberkes/content_style_model/src/master/model/objects.py\n",
    "\n",
    "https://bitbucket.org/pberkes/brandeis-general-repository/src/master/trunk/projects/overcomplete/gaussmix/objects.py"
   ]
  },
  {
   "cell_type": "markdown",
   "metadata": {},
   "source": [
    "## Exercise 3: Add \"from_observations\" factory method"
   ]
  },
  {
   "cell_type": "code",
   "execution_count": null,
   "metadata": {
    "collapsed": true
   },
   "outputs": [],
   "source": []
  }
 ],
 "metadata": {
  "hide_input": false,
  "kernelspec": {
   "display_name": "Python [conda env:scratch]",
   "language": "python",
   "name": "conda-env-scratch-py"
  },
  "language_info": {
   "codemirror_mode": {
    "name": "ipython",
    "version": 3
   },
   "file_extension": ".py",
   "mimetype": "text/x-python",
   "name": "python",
   "nbconvert_exporter": "python",
   "pygments_lexer": "ipython3",
   "version": "3.5.2"
  },
  "toc": {
   "nav_menu": {
    "height": "174px",
    "width": "252px"
   },
   "navigate_menu": true,
   "number_sections": true,
   "sideBar": true,
   "threshold": 4,
   "toc_cell": false,
   "toc_section_display": "block",
   "toc_window_display": true
  }
 },
 "nbformat": 4,
 "nbformat_minor": 2
}
